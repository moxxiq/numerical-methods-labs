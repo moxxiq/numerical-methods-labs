{
 "cells": [
  {
   "cell_type": "markdown",
   "metadata": {},
   "source": [
    "## Варіант 5\n",
    " ### Завдання  1"
   ]
  },
  {
   "cell_type": "markdown",
   "metadata": {},
   "source": [
    " Побудувати кубічний сплайн для таблично заданої функції, з граничними умовами для першої похідної.\n"
   ]
  },
  {
   "cell_type": "code",
   "execution_count": 2,
   "metadata": {},
   "outputs": [],
   "source": [
    "import numpy as np\n",
    "import pandas as pd\n",
    "import matplotlib.pyplot as plt\n",
    "import matplotlib.patches as mpatches\n",
    "from IPython.display import display, Markdown, Math\n",
    "from matplotlib.pyplot import figure\n",
    "from numpy.polynomial import polynomial\n",
    "\n",
    "def init_fig():\n",
    "    global figure\n",
    "    figure(num=None, figsize=(8, 6), dpi=100, facecolor='w', edgecolor='k')"
   ]
  },
  {
   "cell_type": "markdown",
   "metadata": {},
   "source": [
    "<style type=\"text/css\">\n",
    ".tg  {border-collapse:collapse;border-spacing:0;margin:0px auto;}\n",
    ".tg td{border-style:solid;border-width:0px;font-family:Arial, sans-serif;font-size:14px;overflow:hidden;\n",
    "  padding:10px 5px;word-break:normal;}\n",
    ".tg th{border-style:solid;border-width:0px;font-family:Arial, sans-serif;font-size:14px;font-weight:normal;\n",
    "  overflow:hidden;padding:10px 5px;word-break:normal;}\n",
    ".tg .tg-c3ow{border-color:inherit;text-align:center;vertical-align:top}\n",
    ".tg .tg-0pky{border-color:inherit;text-align:left;vertical-align:top}\n",
    ".tg .tg-0lax{text-align:left;vertical-align:top}\n",
    "</style>\n",
    "<table class=\"tg\">\n",
    "<tbody>\n",
    "  <tr>\n",
    "    <td class=\"tg-c3ow\">$i$</td>\n",
    "    <td class=\"tg-c3ow\">0</td>\n",
    "    <td class=\"tg-c3ow\">1</td>\n",
    "    <td class=\"tg-c3ow\">2</td>\n",
    "    <td class=\"tg-c3ow\">3</td>\n",
    "    <td class=\"tg-0pky\">$S'$</td>\n",
    "  </tr>\n",
    "  <tr>\n",
    "    <td class=\"tg-c3ow\">$X$</td>\n",
    "    <td class=\"tg-c3ow\">-4</td>\n",
    "    <td class=\"tg-c3ow\">1</td>\n",
    "    <td class=\"tg-c3ow\">3</td>\n",
    "    <td class=\"tg-c3ow\">7</td>\n",
    "    <td class=\"tg-0pky\">$S'(a)=-1$</td>\n",
    "  </tr>\n",
    "  <tr>\n",
    "    <td class=\"tg-0lax\">$Y$</td>\n",
    "    <td class=\"tg-0lax\">2</td>\n",
    "    <td class=\"tg-0lax\">5</td>\n",
    "    <td class=\"tg-0lax\">-3</td>\n",
    "    <td class=\"tg-0lax\">0</td>\n",
    "    <td class=\"tg-0lax\">$S'(b)=2$</td>\n",
    "  </tr>\n",
    "</tbody>\n",
    "</table>"
   ]
  },
  {
   "cell_type": "markdown",
   "metadata": {},
   "source": [
    "Побудова сплайну буде проводитись за першим способом з файлу, що був надісланий (\"КУБІЧНА СПЛАЙН -НТЕРПОЛЯЦІЯ.pdf\")\n",
    "\n",
    "Сплайн матиме вигляд $S(x)=a_{i}+b_{i}(x-x_{i-1})+c_{i}(x-x_{i-1})^{2}+d_{i}(x-x_{i-1})^{3}$\n",
    "\n",
    "В завданні задані граничні перші похідні, отже будуть використовуватися крайові умови першого типу в точках $x_0$ та $x_N$.\n",
    "\n",
    "$$S^{\\prime}\\left(x_{0}\\right)=f^{\\prime}\\left(x_{0}\\right) ; \\quad S^{\\prime}\\left(x_{N}\\right)=f^{\\prime}\\left(x_{N}\\right)$$\n",
    "\n",
    "$$\\left\\{\\begin{array}{l}b_{1}=f^{\\prime}\\left(x_{0}\\right) \\\\ b_{N}+2 c_{N} h_{N}+3 d_{N} h_{n}^{2}=f^{\\prime}\\left(x_{N}\\right)\\end{array}\\right.$$\n",
    "\n",
    "Для знаходження коефіцієнтів $c_i$ треба знайти розв'язок наступної СЛАР\n",
    "\n",
    "$$\n",
    "\\left\\{\\begin{array}{l}\n",
    "2 c_{1}+c_{2}=3 \\dfrac{y_{1}-y_{0}}{h_{1}^{2}}-\\dfrac{3}{h_{1}} f^{\\prime} x_{0} \\\\\n",
    "h_{i-1} c_{i-1}+2 c_{i}\\left(h_{i}+h_{i-1}\\right)+h_{i} c_{i+1}=3\\left[\\dfrac{y_{i}-y_{i-1}}{h_{i}}-\\dfrac{y_{i-1}-y_{i-2}}{h_{i-1}}\\right], \\quad i=\\overline{2, N-1} \\\\\n",
    "\\dfrac{2}{3} h_{N-1} c_{N-1}+\\left(h_{N}+\\dfrac{4}{3} h_{N-1}\\right) c_{N}=-f^{\\prime}\\left(x_{N}\\right)-2 \\dfrac{y_{N-1}-y_{N-2}}{h_{N-1}}+3 \\dfrac{y_{N}-y_{N-1}}{h_{N}}\n",
    "\\end{array}\\right.\n",
    "$$\n",
    "\n",
    "Знаходження решти коефіцієнтів буде відбуватись згідно системи нижче\n",
    "$$\n",
    "\\left\\{\\begin{array}{l}\n",
    "a_{i}=y_{i-1}, \\quad i=\\overline{1, N}\\\\\n",
    "b_{i}=\\dfrac{y_{i}-y_{i-1}}{h_{i}}-\\dfrac{h_{i}}{3}\\left(c_{i+1}+2 c_{i}\\right), \\quad i=\\overline{1, N-1} \\\\\n",
    "b_{N}=\\dfrac{y_{N-1}-y_{N-2}}{h_{N-1}}+\\dfrac{h_{N-1}}{3}\\left(2 c_{N}+c_{N-1}\\right) \\\\\n",
    "d_{i}=\\dfrac{c_{i+1}-c_{i}}{3 h_{i}}, \\quad i=\\overline{1, N-1} \\\\\n",
    "d_{N}=\\dfrac{f^{\\prime}\\left(x_{n}\\right)-b_{N}-2 c_{N} h_{N}}{3 h_{N}^{2}} \\\\\n",
    "\\end{array}\\right.\n",
    "$$\n",
    "\n",
    "$h_i$ - різниці $x_i - x_{i-1}, i=\\overline{1, N}$"
   ]
  },
  {
   "cell_type": "markdown",
   "metadata": {},
   "source": []
  },
  {
   "cell_type": "markdown",
   "metadata": {},
   "source": []
  },
  {
   "cell_type": "markdown",
   "metadata": {},
   "source": []
  },
  {
   "cell_type": "markdown",
   "metadata": {},
   "source": []
  },
  {
   "cell_type": "code",
   "execution_count": null,
   "metadata": {},
   "outputs": [],
   "source": []
  },
  {
   "cell_type": "code",
   "execution_count": null,
   "metadata": {},
   "outputs": [],
   "source": []
  }
 ],
 "metadata": {
  "kernelspec": {
   "display_name": "Python 3",
   "language": "python",
   "name": "python3"
  },
  "language_info": {
   "codemirror_mode": {
    "name": "ipython",
    "version": 3
   },
   "file_extension": ".py",
   "mimetype": "text/x-python",
   "name": "python",
   "nbconvert_exporter": "python",
   "pygments_lexer": "ipython3",
   "version": "3.8.6"
  }
 },
 "nbformat": 4,
 "nbformat_minor": 4
}
