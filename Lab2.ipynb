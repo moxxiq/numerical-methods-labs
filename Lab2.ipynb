{
 "cells": [
  {
   "cell_type": "markdown",
   "metadata": {},
   "source": [
    "## Варіант 5\n",
    " ### Завдання  1"
   ]
  },
  {
   "cell_type": "markdown",
   "metadata": {},
   "source": [
    " Побудувати кубічний сплайн для таблично заданої функції, з граничними умовами для першої похідної.\n"
   ]
  },
  {
   "cell_type": "code",
   "execution_count": 9,
   "metadata": {},
   "outputs": [],
   "source": [
    "import numpy as np\n",
    "import pandas as pd\n",
    "import matplotlib.pyplot as plt\n",
    "import matplotlib.patches as mpatches\n",
    "from IPython.display import display, Markdown, Math\n",
    "from matplotlib.pyplot import figure\n",
    "from numpy.polynomial import polynomial\n",
    "from scipy.sparse import diags\n",
    "\n",
    "def init_fig():\n",
    "    global figure\n",
    "    figure(num=None, figsize=(8, 6), dpi=100, facecolor='w', edgecolor='k')"
   ]
  },
  {
   "cell_type": "markdown",
   "metadata": {},
   "source": [
    "<style type=\"text/css\">\n",
    ".tg  {border-collapse:collapse;border-spacing:0;margin:0px auto;}\n",
    ".tg td{border-style:solid;border-width:0px;font-family:Arial, sans-serif;font-size:14px;overflow:hidden;\n",
    "  padding:10px 5px;word-break:normal;}\n",
    ".tg th{border-style:solid;border-width:0px;font-family:Arial, sans-serif;font-size:14px;font-weight:normal;\n",
    "  overflow:hidden;padding:10px 5px;word-break:normal;}\n",
    ".tg .tg-c3ow{border-color:inherit;text-align:center;vertical-align:top}\n",
    ".tg .tg-0pky{border-color:inherit;text-align:left;vertical-align:top}\n",
    ".tg .tg-0lax{text-align:left;vertical-align:top}\n",
    "</style>\n",
    "<table class=\"tg\">\n",
    "<tbody>\n",
    "  <tr>\n",
    "    <td class=\"tg-c3ow\">$i$</td>\n",
    "    <td class=\"tg-c3ow\">0</td>\n",
    "    <td class=\"tg-c3ow\">1</td>\n",
    "    <td class=\"tg-c3ow\">2</td>\n",
    "    <td class=\"tg-c3ow\">3</td>\n",
    "    <td class=\"tg-0pky\">$S'$</td>\n",
    "  </tr>\n",
    "  <tr>\n",
    "    <td class=\"tg-c3ow\">$X$</td>\n",
    "    <td class=\"tg-c3ow\">-4</td>\n",
    "    <td class=\"tg-c3ow\">1</td>\n",
    "    <td class=\"tg-c3ow\">3</td>\n",
    "    <td class=\"tg-c3ow\">7</td>\n",
    "    <td class=\"tg-0pky\">$S'(a)=-1$</td>\n",
    "  </tr>\n",
    "  <tr>\n",
    "    <td class=\"tg-0lax\">$Y$</td>\n",
    "    <td class=\"tg-0lax\">2</td>\n",
    "    <td class=\"tg-0lax\">5</td>\n",
    "    <td class=\"tg-0lax\">-3</td>\n",
    "    <td class=\"tg-0lax\">0</td>\n",
    "    <td class=\"tg-0lax\">$S'(b)=2$</td>\n",
    "  </tr>\n",
    "</tbody>\n",
    "</table>"
   ]
  },
  {
   "cell_type": "markdown",
   "metadata": {},
   "source": [
    "Побудова сплайну буде проводитись за першим способом з файлу, що був надісланий (\"КУБІЧНА СПЛАЙН -НТЕРПОЛЯЦІЯ.pdf\")\n",
    "\n",
    "Сплайн матиме вигляд $S(x)=a_{i}+b_{i}(x-x_{i-1})+c_{i}(x-x_{i-1})^{2}+d_{i}(x-x_{i-1})^{3}$\n",
    "\n",
    "В завданні задані граничні перші похідні, отже будуть використовуватися крайові умови першого типу в точках $x_0$ та $x_N$.\n",
    "\n",
    "$$S^{\\prime}\\left(x_{0}\\right)=f^{\\prime}\\left(x_{0}\\right) ; \\quad S^{\\prime}\\left(x_{N}\\right)=f^{\\prime}\\left(x_{N}\\right)$$\n",
    "\n",
    "$$\\left\\{\\begin{array}{l}b_{1}=f^{\\prime}\\left(x_{0}\\right) \\\\ b_{N}+2 c_{N} h_{N}+3 d_{N} h_{n}^{2}=f^{\\prime}\\left(x_{N}\\right)\\end{array}\\right.$$\n",
    "\n",
    "Для знаходження коефіцієнтів $c_i$ треба знайти розв'язок наступної СЛАР\n",
    "\n",
    "$$\n",
    "\\left\\{\\begin{array}{l}\n",
    "2 c_{1}+c_{2}=3 \\dfrac{y_{1}-y_{0}}{h_{1}^{2}}-\\dfrac{3}{h_{1}} f^{\\prime} x_{0} \\\\\n",
    "h_{i-1} c_{i-1}+2 c_{i}\\left(h_{i}+h_{i-1}\\right)+h_{i} c_{i+1}=3\\left[\\dfrac{y_{i}-y_{i-1}}{h_{i}}-\\dfrac{y_{i-1}-y_{i-2}}{h_{i-1}}\\right], \\quad i=\\overline{2, N-1} \\\\\n",
    "\\dfrac{2}{3} h_{N-1} c_{N-1}+\\left(h_{N}+\\dfrac{4}{3} h_{N-1}\\right) c_{N}=-f^{\\prime}\\left(x_{N}\\right)-2 \\dfrac{y_{N-1}-y_{N-2}}{h_{N-1}}+3 \\dfrac{y_{N}-y_{N-1}}{h_{N}}\n",
    "\\end{array}\\right.\n",
    "$$\n",
    "\n",
    "$h_i$ - різниці $x_i - x_{i-1}, i=\\overline{1, N}$"
   ]
  },
  {
   "cell_type": "code",
   "execution_count": 143,
   "metadata": {},
   "outputs": [
    {
     "data": {
      "text/markdown": [
       "#### Таблиця вхідних точок"
      ],
      "text/plain": [
       "<IPython.core.display.Markdown object>"
      ]
     },
     "metadata": {},
     "output_type": "display_data"
    },
    {
     "data": {
      "text/html": [
       "<div>\n",
       "<style scoped>\n",
       "    .dataframe tbody tr th:only-of-type {\n",
       "        vertical-align: middle;\n",
       "    }\n",
       "\n",
       "    .dataframe tbody tr th {\n",
       "        vertical-align: top;\n",
       "    }\n",
       "\n",
       "    .dataframe thead th {\n",
       "        text-align: right;\n",
       "    }\n",
       "</style>\n",
       "<table border=\"1\" class=\"dataframe\">\n",
       "  <thead>\n",
       "    <tr style=\"text-align: right;\">\n",
       "      <th></th>\n",
       "      <th>0</th>\n",
       "      <th>1</th>\n",
       "      <th>2</th>\n",
       "      <th>3</th>\n",
       "    </tr>\n",
       "  </thead>\n",
       "  <tbody>\n",
       "    <tr>\n",
       "      <th>$x_i$</th>\n",
       "      <td>-3</td>\n",
       "      <td>2</td>\n",
       "      <td>5</td>\n",
       "      <td>6</td>\n",
       "    </tr>\n",
       "    <tr>\n",
       "      <th>$y_i$</th>\n",
       "      <td>-2</td>\n",
       "      <td>1</td>\n",
       "      <td>3</td>\n",
       "      <td>4</td>\n",
       "    </tr>\n",
       "    <tr>\n",
       "      <th>$h_i$</th>\n",
       "      <td>0</td>\n",
       "      <td>5</td>\n",
       "      <td>3</td>\n",
       "      <td>1</td>\n",
       "    </tr>\n",
       "  </tbody>\n",
       "</table>\n",
       "</div>"
      ],
      "text/plain": [
       "       0  1  2  3\n",
       "$x_i$ -3  2  5  6\n",
       "$y_i$ -2  1  3  4\n",
       "$h_i$  0  5  3  1"
      ]
     },
     "metadata": {},
     "output_type": "display_data"
    },
    {
     "data": {
      "text/markdown": [
       "#### Трьохдіагональна матриця системи"
      ],
      "text/plain": [
       "<IPython.core.display.Markdown object>"
      ]
     },
     "metadata": {},
     "output_type": "display_data"
    },
    {
     "data": {
      "text/html": [
       "<div>\n",
       "<style scoped>\n",
       "    .dataframe tbody tr th:only-of-type {\n",
       "        vertical-align: middle;\n",
       "    }\n",
       "\n",
       "    .dataframe tbody tr th {\n",
       "        vertical-align: top;\n",
       "    }\n",
       "\n",
       "    .dataframe thead th {\n",
       "        text-align: right;\n",
       "    }\n",
       "</style>\n",
       "<table border=\"1\" class=\"dataframe\">\n",
       "  <thead>\n",
       "    <tr style=\"text-align: right;\">\n",
       "      <th></th>\n",
       "      <th>0</th>\n",
       "      <th>1</th>\n",
       "      <th>2</th>\n",
       "    </tr>\n",
       "  </thead>\n",
       "  <tbody>\n",
       "    <tr>\n",
       "      <th>0</th>\n",
       "      <td>2.0</td>\n",
       "      <td>1.0</td>\n",
       "      <td>0.0</td>\n",
       "    </tr>\n",
       "    <tr>\n",
       "      <th>1</th>\n",
       "      <td>5.0</td>\n",
       "      <td>16.0</td>\n",
       "      <td>3.0</td>\n",
       "    </tr>\n",
       "    <tr>\n",
       "      <th>2</th>\n",
       "      <td>0.0</td>\n",
       "      <td>2.0</td>\n",
       "      <td>5.0</td>\n",
       "    </tr>\n",
       "  </tbody>\n",
       "</table>\n",
       "</div>"
      ],
      "text/plain": [
       "     0     1    2\n",
       "0  2.0   1.0  0.0\n",
       "1  5.0  16.0  3.0\n",
       "2  0.0   2.0  5.0"
      ]
     },
     "metadata": {},
     "output_type": "display_data"
    },
    {
     "data": {
      "text/markdown": [
       "#### Вектор-стовпчик вільних членів"
      ],
      "text/plain": [
       "<IPython.core.display.Markdown object>"
      ]
     },
     "metadata": {},
     "output_type": "display_data"
    },
    {
     "data": {
      "text/html": [
       "<div>\n",
       "<style scoped>\n",
       "    .dataframe tbody tr th:only-of-type {\n",
       "        vertical-align: middle;\n",
       "    }\n",
       "\n",
       "    .dataframe tbody tr th {\n",
       "        vertical-align: top;\n",
       "    }\n",
       "\n",
       "    .dataframe thead th {\n",
       "        text-align: right;\n",
       "    }\n",
       "</style>\n",
       "<table border=\"1\" class=\"dataframe\">\n",
       "  <thead>\n",
       "    <tr style=\"text-align: right;\">\n",
       "      <th></th>\n",
       "      <th>0</th>\n",
       "    </tr>\n",
       "  </thead>\n",
       "  <tbody>\n",
       "    <tr>\n",
       "      <th>0</th>\n",
       "      <td>2.160000</td>\n",
       "    </tr>\n",
       "    <tr>\n",
       "      <th>1</th>\n",
       "      <td>0.200000</td>\n",
       "    </tr>\n",
       "    <tr>\n",
       "      <th>2</th>\n",
       "      <td>0.666667</td>\n",
       "    </tr>\n",
       "  </tbody>\n",
       "</table>\n",
       "</div>"
      ],
      "text/plain": [
       "          0\n",
       "0  2.160000\n",
       "1  0.200000\n",
       "2  0.666667"
      ]
     },
     "metadata": {},
     "output_type": "display_data"
    },
    {
     "data": {
      "text/markdown": [
       "#### Значення коефіцієнтів $c_i$"
      ],
      "text/plain": [
       "<IPython.core.display.Markdown object>"
      ]
     },
     "metadata": {},
     "output_type": "display_data"
    },
    {
     "data": {
      "text/html": [
       "<div>\n",
       "<style scoped>\n",
       "    .dataframe tbody tr th:only-of-type {\n",
       "        vertical-align: middle;\n",
       "    }\n",
       "\n",
       "    .dataframe tbody tr th {\n",
       "        vertical-align: top;\n",
       "    }\n",
       "\n",
       "    .dataframe thead th {\n",
       "        text-align: right;\n",
       "    }\n",
       "</style>\n",
       "<table border=\"1\" class=\"dataframe\">\n",
       "  <thead>\n",
       "    <tr style=\"text-align: right;\">\n",
       "      <th></th>\n",
       "      <th>$c_i$</th>\n",
       "    </tr>\n",
       "  </thead>\n",
       "  <tbody>\n",
       "    <tr>\n",
       "      <th>1</th>\n",
       "      <td>1.307642</td>\n",
       "    </tr>\n",
       "    <tr>\n",
       "      <th>2</th>\n",
       "      <td>-0.455285</td>\n",
       "    </tr>\n",
       "    <tr>\n",
       "      <th>3</th>\n",
       "      <td>0.315447</td>\n",
       "    </tr>\n",
       "  </tbody>\n",
       "</table>\n",
       "</div>"
      ],
      "text/plain": [
       "      $c_i$\n",
       "1  1.307642\n",
       "2 -0.455285\n",
       "3  0.315447"
      ]
     },
     "metadata": {},
     "output_type": "display_data"
    }
   ],
   "source": [
    "X = np.array(\n",
    "#     [-4, 1, 3, 7]\n",
    "    [-3, 2, 5, 6]\n",
    ")\n",
    "Y = np.array(\n",
    "#     [2, 5, -3, 0]\n",
    "    [-2, 1, 3, 4]\n",
    ")\n",
    "# Spr_a = -1\n",
    "Spr_a = -3\n",
    "# Spr_b = 2\n",
    "Spr_b = 1\n",
    "\n",
    "H = X[1:] - X[:-1]\n",
    "\n",
    "# Warning\n",
    "# index N in formulas is [-1] in arrays \n",
    "\n",
    "#################################################      DISPLAY\n",
    "display(Markdown(\"#### Таблиця вхідних точок\"))\n",
    "table = pd.concat([\n",
    "        pd.DataFrame(X),\n",
    "        pd.DataFrame(Y),\n",
    "        pd.DataFrame(np.concatenate([[0], H])),\n",
    "    ], axis=1)\n",
    "table.columns = [\n",
    "    '$x_i$',\n",
    "    '$y_i$',\n",
    "    '$h_i$',\n",
    "    ]\n",
    "display(table.T)\n",
    "###############################################################\n",
    "\n",
    "# diagonal-based input\n",
    "C_coef_unsolved = diags(\n",
    "    [\n",
    "        np.concatenate((H[:-2], np.array([2/3*H[-2]]) )),\n",
    "        np.concatenate((np.array([2]), (H[1:-1]+H[0:-2])*2, np.array([H[-1]+4/3*H[-2]]) )), \n",
    "        np.concatenate((np.array([1]), H[1:-1]))\n",
    "    ],\n",
    "    [-1, 0, 1],\n",
    "    shape=[len(H)]*2\n",
    ").toarray()\n",
    "# equals b\n",
    "b = np.concatenate((\n",
    "    np.array([ 3*(Y[1]-Y[0])/H[0]**2 - 3/H[0]*Spr_a ]),\n",
    "    3*((Y[2:-1]-Y[1:-2])/H[1:-1] - (Y[1:-2]-Y[0:-3])/H[0:-2]),\n",
    "    np.array([ -Spr_b - 2*((Y[-2] - Y[-3])/H[-2]) + 3*( (Y[-1] - Y[-2])/H[-1] ) ])\n",
    "))\n",
    "# solve the system of linear equations\n",
    "C = np.linalg.solve(C_coef_unsolved, b)\n",
    "\n",
    "#################################################      DISPLAY\n",
    "display(Markdown(\"#### Трьохдіагональна матриця системи\"))\n",
    "display(pd.DataFrame(C_coef_unsolved))\n",
    "display(Markdown(\"#### Вектор-стовпчик вільних членів\"))\n",
    "display(pd.DataFrame(b))\n",
    "display(Markdown(\"#### Значення коефіцієнтів $c_i$\"))\n",
    "display(pd.DataFrame(C, columns=[\"$c_i$\"], index=np.arange(1,C.size+1)))\n",
    "###############################################################\n"
   ]
  },
  {
   "cell_type": "markdown",
   "metadata": {},
   "source": [
    "Знаходження решти коефіцієнтів буде відбуватись згідно системи нижче\n",
    "$$\n",
    "\\left\\{\\begin{array}{l}\n",
    "a_{i}=y_{i-1}, \\quad i=\\overline{1, N}\\\\\n",
    "b_{i}=\\dfrac{y_{i}-y_{i-1}}{h_{i}}-\\dfrac{h_{i}}{3}\\left(c_{i+1}+2 c_{i}\\right), \\quad i=\\overline{1, N-1} \\\\\n",
    "b_{N}=\\dfrac{y_{N-1}-y_{N-2}}{h_{N-1}}+\\dfrac{h_{N-1}}{3}\\left(2 c_{N}+c_{N-1}\\right) \\\\\n",
    "d_{i}=\\dfrac{c_{i+1}-c_{i}}{3 h_{i}}, \\quad i=\\overline{1, N-1} \\\\\n",
    "d_{N}=\\dfrac{f^{\\prime}\\left(x_{n}\\right)-b_{N}-2 c_{N} h_{N}}{3 h_{N}^{2}} \\\\\n",
    "\\end{array}\\right.\n",
    "$$"
   ]
  },
  {
   "cell_type": "code",
   "execution_count": 185,
   "metadata": {},
   "outputs": [
    {
     "data": {
      "text/markdown": [
       "$x \\in \\left[-3;2\\right]$"
      ],
      "text/plain": [
       "<IPython.core.display.Markdown object>"
      ]
     },
     "metadata": {},
     "output_type": "display_data"
    },
    {
     "data": {
      "text/html": [
       "<div>\n",
       "<style scoped>\n",
       "    .dataframe tbody tr th:only-of-type {\n",
       "        vertical-align: middle;\n",
       "    }\n",
       "\n",
       "    .dataframe tbody tr th {\n",
       "        vertical-align: top;\n",
       "    }\n",
       "\n",
       "    .dataframe thead th {\n",
       "        text-align: right;\n",
       "    }\n",
       "</style>\n",
       "<table border=\"1\" class=\"dataframe\">\n",
       "  <thead>\n",
       "    <tr style=\"text-align: right;\">\n",
       "      <th></th>\n",
       "      <th>1</th>\n",
       "    </tr>\n",
       "  </thead>\n",
       "  <tbody>\n",
       "    <tr>\n",
       "      <th>$a_1$</th>\n",
       "      <td>-2.000000</td>\n",
       "    </tr>\n",
       "    <tr>\n",
       "      <th>$b_1$</th>\n",
       "      <td>-3.000000</td>\n",
       "    </tr>\n",
       "    <tr>\n",
       "      <th>$c_1$</th>\n",
       "      <td>1.307642</td>\n",
       "    </tr>\n",
       "    <tr>\n",
       "      <th>$d_1$</th>\n",
       "      <td>-0.117528</td>\n",
       "    </tr>\n",
       "  </tbody>\n",
       "</table>\n",
       "</div>"
      ],
      "text/plain": [
       "              1\n",
       "$a_1$ -2.000000\n",
       "$b_1$ -3.000000\n",
       "$c_1$  1.307642\n",
       "$d_1$ -0.117528"
      ]
     },
     "metadata": {},
     "output_type": "display_data"
    },
    {
     "data": {
      "text/markdown": [
       "$x \\in \\left[2;5\\right]$"
      ],
      "text/plain": [
       "<IPython.core.display.Markdown object>"
      ]
     },
     "metadata": {},
     "output_type": "display_data"
    },
    {
     "data": {
      "text/html": [
       "<div>\n",
       "<style scoped>\n",
       "    .dataframe tbody tr th:only-of-type {\n",
       "        vertical-align: middle;\n",
       "    }\n",
       "\n",
       "    .dataframe tbody tr th {\n",
       "        vertical-align: top;\n",
       "    }\n",
       "\n",
       "    .dataframe thead th {\n",
       "        text-align: right;\n",
       "    }\n",
       "</style>\n",
       "<table border=\"1\" class=\"dataframe\">\n",
       "  <thead>\n",
       "    <tr style=\"text-align: right;\">\n",
       "      <th></th>\n",
       "      <th>2</th>\n",
       "    </tr>\n",
       "  </thead>\n",
       "  <tbody>\n",
       "    <tr>\n",
       "      <th>$a_2$</th>\n",
       "      <td>1.000000</td>\n",
       "    </tr>\n",
       "    <tr>\n",
       "      <th>$b_2$</th>\n",
       "      <td>1.261789</td>\n",
       "    </tr>\n",
       "    <tr>\n",
       "      <th>$c_2$</th>\n",
       "      <td>-0.455285</td>\n",
       "    </tr>\n",
       "    <tr>\n",
       "      <th>$d_2$</th>\n",
       "      <td>0.085637</td>\n",
       "    </tr>\n",
       "  </tbody>\n",
       "</table>\n",
       "</div>"
      ],
      "text/plain": [
       "              2\n",
       "$a_2$  1.000000\n",
       "$b_2$  1.261789\n",
       "$c_2$ -0.455285\n",
       "$d_2$  0.085637"
      ]
     },
     "metadata": {},
     "output_type": "display_data"
    },
    {
     "data": {
      "text/markdown": [
       "$x \\in \\left[5;6\\right]$"
      ],
      "text/plain": [
       "<IPython.core.display.Markdown object>"
      ]
     },
     "metadata": {},
     "output_type": "display_data"
    },
    {
     "data": {
      "text/html": [
       "<div>\n",
       "<style scoped>\n",
       "    .dataframe tbody tr th:only-of-type {\n",
       "        vertical-align: middle;\n",
       "    }\n",
       "\n",
       "    .dataframe tbody tr th {\n",
       "        vertical-align: top;\n",
       "    }\n",
       "\n",
       "    .dataframe thead th {\n",
       "        text-align: right;\n",
       "    }\n",
       "</style>\n",
       "<table border=\"1\" class=\"dataframe\">\n",
       "  <thead>\n",
       "    <tr style=\"text-align: right;\">\n",
       "      <th></th>\n",
       "      <th>3</th>\n",
       "    </tr>\n",
       "  </thead>\n",
       "  <tbody>\n",
       "    <tr>\n",
       "      <th>$a_3$</th>\n",
       "      <td>3.000000</td>\n",
       "    </tr>\n",
       "    <tr>\n",
       "      <th>$b_3$</th>\n",
       "      <td>0.842276</td>\n",
       "    </tr>\n",
       "    <tr>\n",
       "      <th>$c_3$</th>\n",
       "      <td>0.315447</td>\n",
       "    </tr>\n",
       "    <tr>\n",
       "      <th>$d_3$</th>\n",
       "      <td>-0.157724</td>\n",
       "    </tr>\n",
       "  </tbody>\n",
       "</table>\n",
       "</div>"
      ],
      "text/plain": [
       "              3\n",
       "$a_3$  3.000000\n",
       "$b_3$  0.842276\n",
       "$c_3$  0.315447\n",
       "$d_3$ -0.157724"
      ]
     },
     "metadata": {},
     "output_type": "display_data"
    }
   ],
   "source": [
    "A = Y[:-1]\n",
    "\n",
    "B_i = (Y[1:-1] - Y[0:-2])/H[:-1] - H[:-1]/3*(C[1:] + 2*C[:-1])\n",
    "B_N = np.array([(Y[-2] - Y[-3])/H[-2] + H[-2]/3*(2*C[-1] + C[-2])])\n",
    "B = np.concatenate([B_i, B_N])\n",
    "\n",
    "D_i = (C[1:] - C[:-1])/(3*H[:-1])\n",
    "D_N = np.array([( Spr_b - B[-1] - 2*C[-1]*H[-1] )/(3*H[-1]**2)])\n",
    "D = np.concatenate(( D_i, D_N ))\n",
    "\n",
    "S = np.concatenate((\n",
    "        A[:, np.newaxis],\n",
    "        B[:, np.newaxis],\n",
    "        C[:, np.newaxis],\n",
    "        D[:, np.newaxis],\n",
    "    ),\n",
    "    axis=1\n",
    ")\n",
    "#################################################      DISPLAY\n",
    "for i in range(len(X)-1):\n",
    "    display(Markdown(f\"$x \\in \\\\left[{X[i]};{X[i+1]}\\\\right]$\"))\n",
    "    display(pd.DataFrame(\n",
    "        S[i,:][np.newaxis, :],\n",
    "        columns=[f'$a_{i+1}$',f'$b_{i+1}$',f'$c_{i+1}$',f'$d_{i+1}$'],\n",
    "        index=[i+1]\n",
    "    ).T)\n",
    "###############################################################\n"
   ]
  },
  {
   "cell_type": "markdown",
   "metadata": {},
   "source": []
  },
  {
   "cell_type": "markdown",
   "metadata": {},
   "source": []
  },
  {
   "cell_type": "markdown",
   "metadata": {},
   "source": []
  },
  {
   "cell_type": "code",
   "execution_count": null,
   "metadata": {},
   "outputs": [],
   "source": []
  },
  {
   "cell_type": "code",
   "execution_count": null,
   "metadata": {},
   "outputs": [],
   "source": []
  }
 ],
 "metadata": {
  "kernelspec": {
   "display_name": "Python 3",
   "language": "python",
   "name": "python3"
  },
  "language_info": {
   "codemirror_mode": {
    "name": "ipython",
    "version": 3
   },
   "file_extension": ".py",
   "mimetype": "text/x-python",
   "name": "python",
   "nbconvert_exporter": "python",
   "pygments_lexer": "ipython3",
   "version": "3.8.6"
  }
 },
 "nbformat": 4,
 "nbformat_minor": 4
}
