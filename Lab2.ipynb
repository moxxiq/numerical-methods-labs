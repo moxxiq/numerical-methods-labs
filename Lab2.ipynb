{
 "cells": [
  {
   "cell_type": "markdown",
   "metadata": {},
   "source": [
    "## Варіант 5\n",
    " ### Завдання  1. Побудувати кубічний сплайн для таблично заданої функції, з граничними умовами для першої похідної."
   ]
  },
  {
   "cell_type": "code",
   "execution_count": 1,
   "metadata": {},
   "outputs": [],
   "source": [
    "import numpy as np\n",
    "import pandas as pd\n",
    "import matplotlib.pyplot as plt\n",
    "import matplotlib.patches as mpatches\n",
    "from IPython.display import display, Markdown, Math\n",
    "from matplotlib.pyplot import figure\n",
    "from numpy.polynomial import polynomial\n",
    "from scipy.sparse import diags\n",
    "from scipy.interpolate import interp1d, CubicSpline\n",
    "\n",
    "def init_fig():\n",
    "    global figure\n",
    "    figure(num=None, figsize=(8, 6), dpi=100, facecolor='w', edgecolor='k')"
   ]
  },
  {
   "cell_type": "markdown",
   "metadata": {},
   "source": [
    "<style type=\"text/css\">\n",
    ".tg  {border-collapse:collapse;border-spacing:0;margin:0px auto;}\n",
    ".tg td{border-style:solid;border-width:0px;font-family:Arial, sans-serif;font-size:14px;overflow:hidden;\n",
    "  padding:10px 5px;word-break:normal;}\n",
    ".tg th{border-style:solid;border-width:0px;font-family:Arial, sans-serif;font-size:14px;font-weight:normal;\n",
    "  overflow:hidden;padding:10px 5px;word-break:normal;}\n",
    ".tg .tg-c3ow{border-color:inherit;text-align:center;vertical-align:top}\n",
    ".tg .tg-0pky{border-color:inherit;text-align:left;vertical-align:top}\n",
    ".tg .tg-0lax{text-align:left;vertical-align:top}\n",
    "</style>\n",
    "<table class=\"tg\">\n",
    "<tbody>\n",
    "  <tr>\n",
    "    <td class=\"tg-c3ow\">$i$</td>\n",
    "    <td class=\"tg-c3ow\">0</td>\n",
    "    <td class=\"tg-c3ow\">1</td>\n",
    "    <td class=\"tg-c3ow\">2</td>\n",
    "    <td class=\"tg-c3ow\">3</td>\n",
    "    <td class=\"tg-0pky\">$S'$</td>\n",
    "  </tr>\n",
    "  <tr>\n",
    "    <td class=\"tg-c3ow\">$X$</td>\n",
    "    <td class=\"tg-c3ow\">-4</td>\n",
    "    <td class=\"tg-c3ow\">1</td>\n",
    "    <td class=\"tg-c3ow\">3</td>\n",
    "    <td class=\"tg-c3ow\">7</td>\n",
    "    <td class=\"tg-0pky\">$S'(a)=-1$</td>\n",
    "  </tr>\n",
    "  <tr>\n",
    "    <td class=\"tg-0lax\">$Y$</td>\n",
    "    <td class=\"tg-0lax\">2</td>\n",
    "    <td class=\"tg-0lax\">5</td>\n",
    "    <td class=\"tg-0lax\">-3</td>\n",
    "    <td class=\"tg-0lax\">0</td>\n",
    "    <td class=\"tg-0lax\">$S'(b)=2$</td>\n",
    "  </tr>\n",
    "</tbody>\n",
    "</table>"
   ]
  },
  {
   "cell_type": "markdown",
   "metadata": {},
   "source": [
    "Побудова сплайну буде проводитись за першим способом з файлу, що був надісланий (\"КУБІЧНА СПЛАЙН -НТЕРПОЛЯЦІЯ.pdf\")\n",
    "\n",
    "Сплайн матиме вигляд $S(x)=a_{i}+b_{i}(x-x_{i-1})+c_{i}(x-x_{i-1})^{2}+d_{i}(x-x_{i-1})^{3}$\n",
    "\n",
    "В завданні задані граничні перші похідні, отже будуть використовуватися крайові умови першого типу в точках $x_0$ та $x_N$.\n",
    "\n",
    "$$S^{\\prime}\\left(x_{0}\\right)=f^{\\prime}\\left(x_{0}\\right) ; \\quad S^{\\prime}\\left(x_{N}\\right)=f^{\\prime}\\left(x_{N}\\right)$$\n",
    "\n",
    "$$\\left\\{\\begin{array}{l}b_{1}=f^{\\prime}\\left(x_{0}\\right) \\\\ b_{N}+2 c_{N} h_{N}+3 d_{N} h_{n}^{2}=f^{\\prime}\\left(x_{N}\\right)\\end{array}\\right.$$\n",
    "\n",
    "Для знаходження коефіцієнтів $c_i$ треба знайти розв'язок наступної СЛАР\n",
    "\n",
    "$$\n",
    "\\left\\{\\begin{array}{l}\n",
    "2 c_{1}+c_{2}=3 \\dfrac{y_{1}-y_{0}}{h_{1}^{2}}-\\dfrac{3}{h_{1}} f^{\\prime} x_{0} \\\\\n",
    "h_{i-1} c_{i-1}+2 c_{i}\\left(h_{i}+h_{i-1}\\right)+h_{i} c_{i+1}=3\\left[\\dfrac{y_{i}-y_{i-1}}{h_{i}}-\\dfrac{y_{i-1}-y_{i-2}}{h_{i-1}}\\right], \\quad i=\\overline{2, N-1} \\\\\n",
    "\\dfrac{2}{3} h_{N-1} c_{N-1}+\\left(h_{N}+\\dfrac{4}{3} h_{N-1}\\right) c_{N}=-f^{\\prime}\\left(x_{N}\\right)-2 \\dfrac{y_{N-1}-y_{N-2}}{h_{N-1}}+3 \\dfrac{y_{N}-y_{N-1}}{h_{N}}\n",
    "\\end{array}\\right.\n",
    "$$\n",
    "\n",
    "$h_i$ - різниці $x_i - x_{i-1}, i=\\overline{1, N}$"
   ]
  },
  {
   "cell_type": "code",
   "execution_count": 2,
   "metadata": {},
   "outputs": [
    {
     "data": {
      "text/markdown": [
       "#### Таблиця вхідних точок"
      ],
      "text/plain": [
       "<IPython.core.display.Markdown object>"
      ]
     },
     "metadata": {},
     "output_type": "display_data"
    },
    {
     "data": {
      "text/html": [
       "<div>\n",
       "<style scoped>\n",
       "    .dataframe tbody tr th:only-of-type {\n",
       "        vertical-align: middle;\n",
       "    }\n",
       "\n",
       "    .dataframe tbody tr th {\n",
       "        vertical-align: top;\n",
       "    }\n",
       "\n",
       "    .dataframe thead th {\n",
       "        text-align: right;\n",
       "    }\n",
       "</style>\n",
       "<table border=\"1\" class=\"dataframe\">\n",
       "  <thead>\n",
       "    <tr style=\"text-align: right;\">\n",
       "      <th></th>\n",
       "      <th>0</th>\n",
       "      <th>1</th>\n",
       "      <th>2</th>\n",
       "      <th>3</th>\n",
       "    </tr>\n",
       "  </thead>\n",
       "  <tbody>\n",
       "    <tr>\n",
       "      <th>$x_i$</th>\n",
       "      <td>-4</td>\n",
       "      <td>1</td>\n",
       "      <td>3</td>\n",
       "      <td>7</td>\n",
       "    </tr>\n",
       "    <tr>\n",
       "      <th>$y_i$</th>\n",
       "      <td>2</td>\n",
       "      <td>5</td>\n",
       "      <td>-3</td>\n",
       "      <td>0</td>\n",
       "    </tr>\n",
       "    <tr>\n",
       "      <th>$h_i$</th>\n",
       "      <td>0</td>\n",
       "      <td>5</td>\n",
       "      <td>2</td>\n",
       "      <td>4</td>\n",
       "    </tr>\n",
       "  </tbody>\n",
       "</table>\n",
       "</div>"
      ],
      "text/plain": [
       "       0  1  2  3\n",
       "$x_i$ -4  1  3  7\n",
       "$y_i$  2  5 -3  0\n",
       "$h_i$  0  5  2  4"
      ]
     },
     "metadata": {},
     "output_type": "display_data"
    },
    {
     "data": {
      "text/markdown": [
       "#### Трьохдіагональна матриця системи"
      ],
      "text/plain": [
       "<IPython.core.display.Markdown object>"
      ]
     },
     "metadata": {},
     "output_type": "display_data"
    },
    {
     "data": {
      "text/html": [
       "<div>\n",
       "<style scoped>\n",
       "    .dataframe tbody tr th:only-of-type {\n",
       "        vertical-align: middle;\n",
       "    }\n",
       "\n",
       "    .dataframe tbody tr th {\n",
       "        vertical-align: top;\n",
       "    }\n",
       "\n",
       "    .dataframe thead th {\n",
       "        text-align: right;\n",
       "    }\n",
       "</style>\n",
       "<table border=\"1\" class=\"dataframe\">\n",
       "  <thead>\n",
       "    <tr style=\"text-align: right;\">\n",
       "      <th></th>\n",
       "      <th>0</th>\n",
       "      <th>1</th>\n",
       "      <th>2</th>\n",
       "    </tr>\n",
       "  </thead>\n",
       "  <tbody>\n",
       "    <tr>\n",
       "      <th>0</th>\n",
       "      <td>2.0</td>\n",
       "      <td>1.000000</td>\n",
       "      <td>0.000000</td>\n",
       "    </tr>\n",
       "    <tr>\n",
       "      <th>1</th>\n",
       "      <td>5.0</td>\n",
       "      <td>14.000000</td>\n",
       "      <td>2.000000</td>\n",
       "    </tr>\n",
       "    <tr>\n",
       "      <th>2</th>\n",
       "      <td>0.0</td>\n",
       "      <td>1.333333</td>\n",
       "      <td>6.666667</td>\n",
       "    </tr>\n",
       "  </tbody>\n",
       "</table>\n",
       "</div>"
      ],
      "text/plain": [
       "     0          1         2\n",
       "0  2.0   1.000000  0.000000\n",
       "1  5.0  14.000000  2.000000\n",
       "2  0.0   1.333333  6.666667"
      ]
     },
     "metadata": {},
     "output_type": "display_data"
    },
    {
     "data": {
      "text/markdown": [
       "#### Вектор-стовпчик вільних членів"
      ],
      "text/plain": [
       "<IPython.core.display.Markdown object>"
      ]
     },
     "metadata": {},
     "output_type": "display_data"
    },
    {
     "data": {
      "text/html": [
       "<div>\n",
       "<style scoped>\n",
       "    .dataframe tbody tr th:only-of-type {\n",
       "        vertical-align: middle;\n",
       "    }\n",
       "\n",
       "    .dataframe tbody tr th {\n",
       "        vertical-align: top;\n",
       "    }\n",
       "\n",
       "    .dataframe thead th {\n",
       "        text-align: right;\n",
       "    }\n",
       "</style>\n",
       "<table border=\"1\" class=\"dataframe\">\n",
       "  <thead>\n",
       "    <tr style=\"text-align: right;\">\n",
       "      <th></th>\n",
       "      <th>0</th>\n",
       "    </tr>\n",
       "  </thead>\n",
       "  <tbody>\n",
       "    <tr>\n",
       "      <th>0</th>\n",
       "      <td>0.96</td>\n",
       "    </tr>\n",
       "    <tr>\n",
       "      <th>1</th>\n",
       "      <td>-13.80</td>\n",
       "    </tr>\n",
       "    <tr>\n",
       "      <th>2</th>\n",
       "      <td>8.25</td>\n",
       "    </tr>\n",
       "  </tbody>\n",
       "</table>\n",
       "</div>"
      ],
      "text/plain": [
       "       0\n",
       "0   0.96\n",
       "1 -13.80\n",
       "2   8.25"
      ]
     },
     "metadata": {},
     "output_type": "display_data"
    },
    {
     "data": {
      "text/markdown": [
       "#### Значення коефіцієнтів $c_i$"
      ],
      "text/plain": [
       "<IPython.core.display.Markdown object>"
      ]
     },
     "metadata": {},
     "output_type": "display_data"
    },
    {
     "data": {
      "text/html": [
       "<div>\n",
       "<style scoped>\n",
       "    .dataframe tbody tr th:only-of-type {\n",
       "        vertical-align: middle;\n",
       "    }\n",
       "\n",
       "    .dataframe tbody tr th {\n",
       "        vertical-align: top;\n",
       "    }\n",
       "\n",
       "    .dataframe thead th {\n",
       "        text-align: right;\n",
       "    }\n",
       "</style>\n",
       "<table border=\"1\" class=\"dataframe\">\n",
       "  <thead>\n",
       "    <tr style=\"text-align: right;\">\n",
       "      <th></th>\n",
       "      <th>$c_i$</th>\n",
       "    </tr>\n",
       "  </thead>\n",
       "  <tbody>\n",
       "    <tr>\n",
       "      <th>1</th>\n",
       "      <td>1.321216</td>\n",
       "    </tr>\n",
       "    <tr>\n",
       "      <th>2</th>\n",
       "      <td>-1.682432</td>\n",
       "    </tr>\n",
       "    <tr>\n",
       "      <th>3</th>\n",
       "      <td>1.573986</td>\n",
       "    </tr>\n",
       "  </tbody>\n",
       "</table>\n",
       "</div>"
      ],
      "text/plain": [
       "      $c_i$\n",
       "1  1.321216\n",
       "2 -1.682432\n",
       "3  1.573986"
      ]
     },
     "metadata": {},
     "output_type": "display_data"
    }
   ],
   "source": [
    "X = np.array(\n",
    "    [-4, 1, 3, 7]\n",
    ")\n",
    "Y = np.array(\n",
    "    [2, 5, -3, 0]\n",
    ")\n",
    "Spr_a = -1\n",
    "Spr_b = 2\n",
    "\n",
    "H = X[1:] - X[:-1]\n",
    "\n",
    "# Warning\n",
    "# index N in formulas is [-1] in arrays \n",
    "\n",
    "#################################################      DISPLAY\n",
    "display(Markdown(\"#### Таблиця вхідних точок\"))\n",
    "table = pd.concat([\n",
    "        pd.DataFrame(X),\n",
    "        pd.DataFrame(Y),\n",
    "        pd.DataFrame(np.concatenate([[0], H])),\n",
    "    ], axis=1)\n",
    "table.columns = [\n",
    "    '$x_i$',\n",
    "    '$y_i$',\n",
    "    '$h_i$',\n",
    "    ]\n",
    "display(table.T)\n",
    "###############################################################\n",
    "\n",
    "# diagonal-based input\n",
    "C_coef_unsolved = diags(\n",
    "    [\n",
    "        np.concatenate((H[:-2], np.array([2/3*H[-2]]) )),\n",
    "        np.concatenate((np.array([2]), (H[1:-1]+H[0:-2])*2, np.array([H[-1]+4/3*H[-2]]) )), \n",
    "        np.concatenate((np.array([1]), H[1:-1]))\n",
    "    ],\n",
    "    [-1, 0, 1],\n",
    "    shape=[len(H)]*2\n",
    ").toarray()\n",
    "# equals b\n",
    "b = np.concatenate((\n",
    "    np.array([ 3*(Y[1]-Y[0])/H[0]**2 - 3/H[0]*Spr_a ]),\n",
    "    3*((Y[2:-1]-Y[1:-2])/H[1:-1] - (Y[1:-2]-Y[0:-3])/H[0:-2]),\n",
    "    np.array([ -Spr_b - 2*((Y[-2] - Y[-3])/H[-2]) + 3*( (Y[-1] - Y[-2])/H[-1] ) ])\n",
    "))\n",
    "# solve the system of linear equations\n",
    "C = np.linalg.solve(C_coef_unsolved, b)\n",
    "\n",
    "#################################################      DISPLAY\n",
    "display(Markdown(\"#### Трьохдіагональна матриця системи\"))\n",
    "display(pd.DataFrame(C_coef_unsolved))\n",
    "display(Markdown(\"#### Вектор-стовпчик вільних членів\"))\n",
    "display(pd.DataFrame(b))\n",
    "display(Markdown(\"#### Значення коефіцієнтів $c_i$\"))\n",
    "display(pd.DataFrame(C, columns=[\"$c_i$\"], index=np.arange(1,C.size+1)))\n",
    "###############################################################\n"
   ]
  },
  {
   "cell_type": "markdown",
   "metadata": {},
   "source": [
    "Знаходження решти коефіцієнтів буде відбуватись згідно системи нижче\n",
    "$$\n",
    "\\left\\{\\begin{array}{l}\n",
    "a_{i}=y_{i-1}, \\quad i=\\overline{1, N}\\\\\n",
    "b_{i}=\\dfrac{y_{i}-y_{i-1}}{h_{i}}-\\dfrac{h_{i}}{3}\\left(c_{i+1}+2 c_{i}\\right), \\quad i=\\overline{1, N-1} \\\\\n",
    "b_{N}=\\dfrac{y_{N-1}-y_{N-2}}{h_{N-1}}+\\dfrac{h_{N-1}}{3}\\left(2 c_{N}+c_{N-1}\\right) \\\\\n",
    "d_{i}=\\dfrac{c_{i+1}-c_{i}}{3 h_{i}}, \\quad i=\\overline{1, N-1} \\\\\n",
    "d_{N}=\\dfrac{f^{\\prime}\\left(x_{n}\\right)-b_{N}-2 c_{N} h_{N}}{3 h_{N}^{2}} \\\\\n",
    "\\end{array}\\right.\n",
    "$$"
   ]
  },
  {
   "cell_type": "code",
   "execution_count": 19,
   "metadata": {},
   "outputs": [
    {
     "data": {
      "text/markdown": [
       "$x \\in \\left[-4;1\\right]$"
      ],
      "text/plain": [
       "<IPython.core.display.Markdown object>"
      ]
     },
     "metadata": {},
     "output_type": "display_data"
    },
    {
     "data": {
      "text/markdown": [
       "$x \\mapsto \\text{2.0} - \\text{1.0}\\,(x + 4) + \\text{1.321}\\,(x + 4)^{2} - \\text{0.2}\\,(x + 4)^{3}$"
      ],
      "text/plain": [
       "<IPython.core.display.Markdown object>"
      ]
     },
     "metadata": {},
     "output_type": "display_data"
    },
    {
     "data": {
      "text/markdown": [
       "$x \\in \\left[1;3\\right]$"
      ],
      "text/plain": [
       "<IPython.core.display.Markdown object>"
      ]
     },
     "metadata": {},
     "output_type": "display_data"
    },
    {
     "data": {
      "text/markdown": [
       "$x \\mapsto \\text{5.0} - \\text{2.806}\\,(x - 1) - \\text{1.682}\\,(x - 1)^{2} + \\text{0.543}\\,(x - 1)^{3}$"
      ],
      "text/plain": [
       "<IPython.core.display.Markdown object>"
      ]
     },
     "metadata": {},
     "output_type": "display_data"
    },
    {
     "data": {
      "text/markdown": [
       "$x \\in \\left[3;7\\right]$"
      ],
      "text/plain": [
       "<IPython.core.display.Markdown object>"
      ]
     },
     "metadata": {},
     "output_type": "display_data"
    },
    {
     "data": {
      "text/markdown": [
       "$x \\mapsto \\text{-3.0} - \\text{3.023}\\,(x - 3) + \\text{1.574}\\,(x - 3)^{2} - \\text{0.158}\\,(x - 3)^{3}$"
      ],
      "text/plain": [
       "<IPython.core.display.Markdown object>"
      ]
     },
     "metadata": {},
     "output_type": "display_data"
    },
    {
     "data": {
      "image/png": "[encoded data removed]",
      "text/plain": [
       "<Figure size 800x600 with 1 Axes>"
      ]
     },
     "metadata": {},
     "output_type": "display_data"
    },
    {
     "name": "stdout",
     "output_type": "stream",
     "text": [
      "\n",
      "\n",
      "\n",
      "\n",
      "\n",
      "\n",
      "\n",
      "\n",
      "\n",
      "\n",
      "\n",
      "\n",
      "\n",
      "\n",
      "\n",
      "\n",
      "\n",
      "\n",
      "\n",
      "\n",
      "\n"
     ]
    }
   ],
   "source": [
    "A = Y[:-1]\n",
    "\n",
    "B_i = (Y[1:-1] - Y[0:-2])/H[:-1] - H[:-1]/3*(C[1:] + 2*C[:-1])\n",
    "B_N = np.array([(Y[-2] - Y[-3])/H[-2] + H[-2]/3*(2*C[-1] + C[-2])])\n",
    "B = np.concatenate([B_i, B_N])\n",
    "\n",
    "D_i = (C[1:] - C[:-1])/(3*H[:-1])\n",
    "D_N = np.array([( Spr_b - B[-1] - 2*C[-1]*H[-1] )/(3*H[-1]**2)])\n",
    "D = np.concatenate(( D_i, D_N ))\n",
    "\n",
    "S = np.concatenate((\n",
    "        A[:, np.newaxis],\n",
    "        B[:, np.newaxis],\n",
    "        C[:, np.newaxis],\n",
    "        D[:, np.newaxis],\n",
    "    ),\n",
    "    axis=1\n",
    ")\n",
    "polys = [polynomial.Polynomial(i) for i in S]\n",
    "\n",
    "#################################################      DISPLAY\n",
    "for i in range(len(X)-1):\n",
    "    polys_disp = [polynomial.Polynomial(i) for i in np.round(S, 3)]\n",
    "    display(Markdown(f\"$x \\in \\\\left[{X[i]};{X[i+1]}\\\\right]$\"))\n",
    "    display(Markdown(\n",
    "        polys_disp[i]._repr_latex_(\n",
    "        ).replace(',x', f',(x - {str(X[i])})' if X[i]>0 else f',(x + {str(X[i])[1:]})')\n",
    "    ))\n",
    "\n",
    "init_fig()\n",
    "xmin, xmax = X.min(), X.max()\n",
    "points = plt.plot(X, Y, 'go')\n",
    "for i in range(len(X)-1):\n",
    "    lin_space = np.linspace(X[i], X[i+1], 30)\n",
    "    plt.plot(lin_space, polys[i](lin_space-X[i]), 'b')\n",
    "lin_space = np.linspace(xmin, xmax, 100)\n",
    "linear_f = interp1d(X, Y)\n",
    "linear = plt.plot(lin_space, linear_f(lin_space), color='purple', linestyle='dashed',)\n",
    "blue_patch = mpatches.Patch(color='blue', label='Графік сплайнів')\n",
    "green_patch = mpatches.Patch(color='green', label='Значення в відомих точках')\n",
    "purple_patch = mpatches.Patch(color='purple', label='Лінійна інтерполяція')\n",
    "plt.legend(handles=[blue_patch, green_patch, purple_patch])\n",
    "plt.title(\"Графік сплайнів\")\n",
    "plt.show()\n",
    "print(\"\\n\"*20)\n",
    "###############################################################"
   ]
  },
  {
   "cell_type": "markdown",
   "metadata": {},
   "source": [
    "### Завдання 2. Реалізувати в Matlab побудову кубічного сплайну для свого варіанту. Порівняти результати з аналітичним методом.\n",
    "Робота буде реалізовуватись в Python 3. Порівнюватись буде з вбудованими функціями"
   ]
  },
  {
   "cell_type": "code",
   "execution_count": 71,
   "metadata": {},
   "outputs": [
    {
     "data": {
      "image/png": "[encoded data removed]",
      "text/plain": [
       "<Figure size 800x600 with 1 Axes>"
      ]
     },
     "metadata": {},
     "output_type": "display_data"
    }
   ],
   "source": [
    "init_fig()\n",
    "xmin, xmax = X.min(), X.max()\n",
    "points = plt.plot(X, Y, 'go')\n",
    "for i in range(len(X)-1):\n",
    "    lin_space = np.linspace(X[i], X[i+1], 30)\n",
    "    plt.plot(lin_space, polys[i](lin_space-X[i]), 'b', linewidth=4)\n",
    "lin_space = np.linspace(xmin, xmax, 100)\n",
    "lib_S_f = CubicSpline(X, Y, bc_type=((1, Spr_a), (1, Spr_b)))\n",
    "plt.plot(lin_space, lib_S_f(lin_space), color='pink', linestyle='dashed',)\n",
    "pink_patch = mpatches.Patch(color='pink', label='Зразковий графік сплайнів')\n",
    "blue_patch = mpatches.Patch(color='blue', label='Графік сплайнів')\n",
    "green_patch = mpatches.Patch(color='green', label='Значення в відомих точках')\n",
    "plt.legend(handles=[blue_patch, green_patch, pink_patch])\n",
    "plt.title(\"Графік сплайнів\")\n",
    "plt.show()"
   ]
  },
  {
   "cell_type": "markdown",
   "metadata": {},
   "source": [
    "### Завдання 3. Розробити програмне забезпечення задачі побудови лінійного та/або кубічного сплайну.\n",
    "Вже розроблене лишилось тільки оформити в окрему функцію"
   ]
  },
  {
   "cell_type": "code",
   "execution_count": 7,
   "metadata": {},
   "outputs": [],
   "source": [
    "import numpy as np\n",
    "import pandas as pd\n",
    "import matplotlib.pyplot as plt\n",
    "import matplotlib.patches as mpatches\n",
    "from IPython.display import display, Markdown, Math\n",
    "from matplotlib.pyplot import figure\n",
    "from numpy.polynomial import polynomial\n",
    "from scipy.sparse import diags\n",
    "\n",
    "def init_fig():\n",
    "    global figure\n",
    "    figure(num=None, figsize=(8, 6), dpi=100, facecolor='w', edgecolor='k')\n",
    "\n",
    "# Початкові точки ікс\n",
    "X = np.array(\n",
    "    [-4, 1, 3, 7]\n",
    ")\n",
    "# Відповідні їм значення функції\n",
    "Y = np.array(\n",
    "    [2, 5, -3, 0]\n",
    ")\n",
    "# Значення похідних на кінцях\n",
    "Spr_a = -1\n",
    "Spr_b = 2\n",
    "\n",
    "def spline(X, Y, Spr_a, Spr_b):\n",
    "    H = X[1:] - X[:-1]\n",
    "    #################################################      DISPLAY\n",
    "    display(Markdown(\"#### Таблиця вхідних точок\"))\n",
    "    table = pd.concat([\n",
    "            pd.DataFrame(X),\n",
    "            pd.DataFrame(Y),\n",
    "            pd.DataFrame(np.concatenate([[0], H])),\n",
    "        ], axis=1)\n",
    "    table.columns = [\n",
    "        '$x_i$',\n",
    "        '$y_i$',\n",
    "        '$h_i$',\n",
    "        ]\n",
    "    display(table.T)\n",
    "    ###############################################################\n",
    "    # diagonal-based input\n",
    "    C_coef_unsolved = diags(\n",
    "        [\n",
    "            np.concatenate((H[:-2], np.array([2/3*H[-2]]) )),\n",
    "            np.concatenate((np.array([2]), (H[1:-1]+H[0:-2])*2, np.array([H[-1]+4/3*H[-2]]) )), \n",
    "            np.concatenate((np.array([1]), H[1:-1]))\n",
    "        ],\n",
    "        [-1, 0, 1],\n",
    "        shape=[len(H)]*2\n",
    "    ).toarray()\n",
    "    # equals b\n",
    "    b = np.concatenate((\n",
    "        np.array([ 3*(Y[1]-Y[0])/H[0]**2 - 3/H[0]*Spr_a ]),\n",
    "        3*((Y[2:-1]-Y[1:-2])/H[1:-1] - (Y[1:-2]-Y[0:-3])/H[0:-2]),\n",
    "        np.array([ -Spr_b - 2*((Y[-2] - Y[-3])/H[-2]) + 3*( (Y[-1] - Y[-2])/H[-1] ) ])\n",
    "    ))\n",
    "    # solve the system of linear equations\n",
    "    C = np.linalg.solve(C_coef_unsolved, b)\n",
    "    A = Y[:-1]\n",
    "\n",
    "    B_i = (Y[1:-1] - Y[0:-2])/H[:-1] - H[:-1]/3*(C[1:] + 2*C[:-1])\n",
    "    B_N = np.array([(Y[-2] - Y[-3])/H[-2] + H[-2]/3*(2*C[-1] + C[-2])])\n",
    "    B = np.concatenate([B_i, B_N])\n",
    "\n",
    "    D_i = (C[1:] - C[:-1])/(3*H[:-1])\n",
    "    D_N = np.array([( Spr_b - B[-1] - 2*C[-1]*H[-1] )/(3*H[-1]**2)])\n",
    "    D = np.concatenate(( D_i, D_N ))\n",
    "\n",
    "    S = np.concatenate((\n",
    "            A[:, np.newaxis],\n",
    "            B[:, np.newaxis],\n",
    "            C[:, np.newaxis],\n",
    "            D[:, np.newaxis],\n",
    "        ),\n",
    "        axis=1\n",
    "    )\n",
    "    polys = [polynomial.Polynomial(i) for i in S]\n",
    "    #################################################      DISPLAY\n",
    "    for i in range(len(X)-1):\n",
    "        polys_disp = [polynomial.Polynomial(i) for i in np.round(S, 3)]\n",
    "        display(Markdown(f\"$x \\in \\\\left[{X[i]};{X[i+1]}\\\\right]$\"))\n",
    "        display(Markdown(\n",
    "            polys_disp[i]._repr_latex_(\n",
    "            ).replace(',x', f',(x - {str(X[i])})' if X[i]>0 else f',(x + {str(X[i])[1:]})')\n",
    "        ))\n",
    "\n",
    "    init_fig()\n",
    "    xmin, xmax = X.min(), X.max()\n",
    "    points = plt.plot(X, Y, 'go')\n",
    "    for i in range(len(X)-1):\n",
    "        lin_space = np.linspace(X[i], X[i+1], 30)\n",
    "        plt.plot(lin_space, polys[i](lin_space-X[i]), 'b')\n",
    "    lin_space = np.linspace(xmin, xmax, 100)\n",
    "    blue_patch = mpatches.Patch(color='blue', label='Графік сплайнів')\n",
    "    green_patch = mpatches.Patch(color='green', label='Значення в відомих точках')\n",
    "    plt.legend(handles=[blue_patch, green_patch])\n",
    "    plt.title(\"Графік сплайнів\")\n",
    "    plt.show()\n",
    "    ###############################################################"
   ]
  },
  {
   "cell_type": "code",
   "execution_count": 22,
   "metadata": {},
   "outputs": [
    {
     "data": {
      "text/markdown": [
       "### Для прикладу візьмемо точки з попередньої лабораторної роботи $\\sqrt{5x^3-4x+2}$"
      ],
      "text/plain": [
       "<IPython.core.display.Markdown object>"
      ]
     },
     "metadata": {},
     "output_type": "display_data"
    },
    {
     "data": {
      "text/markdown": [
       "#### Таблиця вхідних точок"
      ],
      "text/plain": [
       "<IPython.core.display.Markdown object>"
      ]
     },
     "metadata": {},
     "output_type": "display_data"
    },
    {
     "data": {
      "text/html": [
       "<div>\n",
       "<style scoped>\n",
       "    .dataframe tbody tr th:only-of-type {\n",
       "        vertical-align: middle;\n",
       "    }\n",
       "\n",
       "    .dataframe tbody tr th {\n",
       "        vertical-align: top;\n",
       "    }\n",
       "\n",
       "    .dataframe thead th {\n",
       "        text-align: right;\n",
       "    }\n",
       "</style>\n",
       "<table border=\"1\" class=\"dataframe\">\n",
       "  <thead>\n",
       "    <tr style=\"text-align: right;\">\n",
       "      <th></th>\n",
       "      <th>0</th>\n",
       "      <th>1</th>\n",
       "      <th>2</th>\n",
       "      <th>3</th>\n",
       "      <th>4</th>\n",
       "      <th>5</th>\n",
       "    </tr>\n",
       "  </thead>\n",
       "  <tbody>\n",
       "    <tr>\n",
       "      <th>$x_i$</th>\n",
       "      <td>-1.0</td>\n",
       "      <td>-0.4000</td>\n",
       "      <td>0.2000</td>\n",
       "      <td>0.8000</td>\n",
       "      <td>1.4000</td>\n",
       "      <td>2.000</td>\n",
       "    </tr>\n",
       "    <tr>\n",
       "      <th>$y_i$</th>\n",
       "      <td>1.0</td>\n",
       "      <td>1.8111</td>\n",
       "      <td>1.1136</td>\n",
       "      <td>1.1662</td>\n",
       "      <td>3.1812</td>\n",
       "      <td>5.831</td>\n",
       "    </tr>\n",
       "    <tr>\n",
       "      <th>$h_i$</th>\n",
       "      <td>0.0</td>\n",
       "      <td>0.6000</td>\n",
       "      <td>0.6000</td>\n",
       "      <td>0.6000</td>\n",
       "      <td>0.6000</td>\n",
       "      <td>0.600</td>\n",
       "    </tr>\n",
       "  </tbody>\n",
       "</table>\n",
       "</div>"
      ],
      "text/plain": [
       "         0       1       2       3       4      5\n",
       "$x_i$ -1.0 -0.4000  0.2000  0.8000  1.4000  2.000\n",
       "$y_i$  1.0  1.8111  1.1136  1.1662  3.1812  5.831\n",
       "$h_i$  0.0  0.6000  0.6000  0.6000  0.6000  0.600"
      ]
     },
     "metadata": {},
     "output_type": "display_data"
    },
    {
     "data": {
      "text/markdown": [
       "$x \\in \\left[-1.0;-0.4\\right]$"
      ],
      "text/plain": [
       "<IPython.core.display.Markdown object>"
      ]
     },
     "metadata": {},
     "output_type": "display_data"
    },
    {
     "data": {
      "text/markdown": [
       "$x \\mapsto \\text{1.0} + \\text{5.5}\\,(x + 1.0) - \\text{9.94}\\,(x + 1.0)^{2} + \\text{5.043}\\,(x + 1.0)^{3}$"
      ],
      "text/plain": [
       "<IPython.core.display.Markdown object>"
      ]
     },
     "metadata": {},
     "output_type": "display_data"
    },
    {
     "data": {
      "text/markdown": [
       "$x \\in \\left[-0.4;0.2\\right]$"
      ],
      "text/plain": [
       "<IPython.core.display.Markdown object>"
      ]
     },
     "metadata": {},
     "output_type": "display_data"
    },
    {
     "data": {
      "text/markdown": [
       "$x \\mapsto \\text{1.811} - \\text{0.981}\\,(x + 0.4) - \\text{0.862}\\,(x + 0.4)^{2} + \\text{0.932}\\,(x + 0.4)^{3}$"
      ],
      "text/plain": [
       "<IPython.core.display.Markdown object>"
      ]
     },
     "metadata": {},
     "output_type": "display_data"
    },
    {
     "data": {
      "text/markdown": [
       "$x \\in \\left[0.2;0.8\\right]$"
      ],
      "text/plain": [
       "<IPython.core.display.Markdown object>"
      ]
     },
     "metadata": {},
     "output_type": "display_data"
    },
    {
     "data": {
      "text/markdown": [
       "$x \\mapsto \\text{1.114} - \\text{1.009}\\,(x - 0.2) + \\text{0.816}\\,(x - 0.2)^{2} + \\text{1.686}\\,(x - 0.2)^{3}$"
      ],
      "text/plain": [
       "<IPython.core.display.Markdown object>"
      ]
     },
     "metadata": {},
     "output_type": "display_data"
    },
    {
     "data": {
      "text/markdown": [
       "$x \\in \\left[0.8;1.4\\right]$"
      ],
      "text/plain": [
       "<IPython.core.display.Markdown object>"
      ]
     },
     "metadata": {},
     "output_type": "display_data"
    },
    {
     "data": {
      "text/markdown": [
       "$x \\mapsto \\text{1.166} + \\text{1.791}\\,(x - 0.8) + \\text{3.85}\\,(x - 0.8)^{2} - \\text{2.064}\\,(x - 0.8)^{3}$"
      ],
      "text/plain": [
       "<IPython.core.display.Markdown object>"
      ]
     },
     "metadata": {},
     "output_type": "display_data"
    },
    {
     "data": {
      "text/markdown": [
       "$x \\in \\left[1.4;2.0\\right]$"
      ],
      "text/plain": [
       "<IPython.core.display.Markdown object>"
      ]
     },
     "metadata": {},
     "output_type": "display_data"
    },
    {
     "data": {
      "text/markdown": [
       "$x \\mapsto \\text{3.181} + \\text{4.183}\\,(x - 1.4) + \\text{0.136}\\,(x - 1.4)^{2} + \\text{0.422}\\,(x - 1.4)^{3}$"
      ],
      "text/plain": [
       "<IPython.core.display.Markdown object>"
      ]
     },
     "metadata": {},
     "output_type": "display_data"
    },
    {
     "data": {
      "image/png": "[encoded data removed]",
      "text/plain": [
       "<Figure size 800x600 with 1 Axes>"
      ]
     },
     "metadata": {},
     "output_type": "display_data"
    },
    {
     "name": "stdout",
     "output_type": "stream",
     "text": [
      "\n",
      "\n",
      "\n",
      "\n",
      "\n",
      "\n",
      "\n",
      "\n",
      "\n",
      "\n",
      "\n",
      "\n",
      "\n",
      "\n",
      "\n",
      "\n",
      "\n",
      "\n",
      "\n",
      "\n",
      "\n",
      "\n",
      "\n",
      "\n",
      "\n",
      "\n"
     ]
    }
   ],
   "source": [
    "display(Markdown(\"### Для прикладу візьмемо точки з попередньої лабораторної роботи $\\sqrt{5x^3-4x+2}$\"))\n",
    "f = lambda x: np.sqrt(5*x**3-4*x+2)\n",
    "start = -1\n",
    "stop = 2.5\n",
    "step = 0.6\n",
    "x_i = np.round(np.arange(start, stop, step), 4)\n",
    "y_i = np.round(f(x_i), 4)\n",
    "from scipy.misc import derivative\n",
    "s_a = derivative(f, x_i.min(), n=1, dx=0.0005, order=3)\n",
    "s_b = derivative(f, x_i.max(), n=1, dx=0.0005, order=3)\n",
    "spline(\n",
    "    x_i,\n",
    "    y_i,\n",
    "    s_a,\n",
    "    s_b\n",
    ")\n",
    "print(\"\\n\"*25)"
   ]
  }
 ],
 "metadata": {
  "kernelspec": {
   "display_name": "Python 3",
   "language": "python",
   "name": "python3"
  },
  "language_info": {
   "codemirror_mode": {
    "name": "ipython",
    "version": 3
   },
   "file_extension": ".py",
   "mimetype": "text/x-python",
   "name": "python",
   "nbconvert_exporter": "python",
   "pygments_lexer": "ipython3",
   "version": "3.9.0"
  }
 },
 "nbformat": 4,
 "nbformat_minor": 4
}
