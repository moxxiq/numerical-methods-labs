{
 "cells": [
  {
   "cell_type": "markdown",
   "metadata": {},
   "source": [
    "## Варіант 5\n",
    "### Завдання  1. Обчислити заданий інтеграл Рімана із точністю 0,001:\n",
    "- методом трапецій із визначенням кількості інтервалів розбиття через оцінку похибки;\n",
    "- методом Сімпсона із використання принципу Рунге;\n",
    "- за допомогою формул Гауса.\n",
    "\n",
    "За отриманими результатами обчислень зробити висновки.\n",
    "\n",
    "| № варіанту |        $f (x)$        | a | b |\n",
    "|:----------:|:---------------------:|:---:|:---:|\n",
    "|      5     | $$\\frac{sin x}{x^2+1}$$ |  0  |  1  |"
   ]
  },
  {
   "cell_type": "code",
   "execution_count": 2,
   "metadata": {},
   "outputs": [],
   "source": [
    "import numpy as np\n",
    "import pandas as pd\n",
    "import matplotlib.pyplot as plt\n",
    "import matplotlib.patches as mpatches\n",
    "from IPython.display import display, Markdown, Math\n",
    "from matplotlib.pyplot import figure\n",
    "from numpy.polynomial import polynomial\n",
    "from scipy.misc import derivative\n",
    "\n",
    "def init_fig():\n",
    "    global figure\n",
    "    figure(num=None, figsize=(8, 6), dpi=100, facecolor='w', edgecolor='k')"
   ]
  },
  {
   "cell_type": "code",
   "execution_count": 3,
   "metadata": {},
   "outputs": [],
   "source": [
    "f = lambda x: np.sin(x)/(x**2 + 1)\n",
    "a = 0\n",
    "b = 1\n",
    "error = 0.001"
   ]
  },
  {
   "cell_type": "code",
   "execution_count": 16,
   "metadata": {},
   "outputs": [],
   "source": [
    "class Integral():\n",
    "    \"\"\"Inegral to numericaly solve different methods\"\"\"\n",
    "    def __init__(self, func, a, b, error = 0.001):\n",
    "        \"\"\"\n",
    "        func : function to integrate\n",
    "        a : left bound\n",
    "        b : right bound\n",
    "        \"\"\"\n",
    "        self.func = func\n",
    "        self.a = a\n",
    "        self.b = b\n",
    "        self.error = error\n",
    "    \n",
    "    def max_der(self, order):\n",
    "        M = np.abs(\n",
    "            derivative(\n",
    "                self.func,\n",
    "                np.linspace(self.a, self.b, 100),\n",
    "                n=order,\n",
    "                dx=0.0005,\n",
    "                order=order+1+order%2\n",
    "            )\n",
    "        ).max()\n",
    "        return M\n",
    "    \n",
    "    def min_distance_between_points(self):\n",
    "        h = np.sqrt(\n",
    "            12*self.error/(self.max_der(2)*np.abs(self.b-self.a))\n",
    "        )\n",
    "        return h\n",
    "    \n",
    "    def interval_number_by_error(self):\n",
    "        n = int(np.ceil((self.b - self.a)/self.min_distance_between_points()))\n",
    "        return n\n",
    "    \n",
    "    def trapezoidal_error(self, h):\n",
    "        return np.abs(self.max_der(2)*np.abs(self.b - self.a)*h**2/12)\n",
    "    \n",
    "    def solve_trapezoidal(self):\n",
    "        n = self.interval_number_by_error()\n",
    "        h = (self.b - self.a)/n\n",
    "        f_x_i = self.func(np.linspace(self.a, self.b, n+1))\n",
    "        # for trapezional formula\n",
    "        f_x_i[0] /= 2\n",
    "        f_x_i[-1] /= 2\n",
    "        answer = h*np.sum(f_x_i)\n",
    "        return answer, self.trapezoidal_error(h)\n",
    "        \n",
    "\n",
    "\n",
    "I = Integral(f, a, b, error)\n",
    "trapezoidal_answer, trapezoidal_error = I.solve_trapezoidal()\n"
   ]
  }
 ],
 "metadata": {
  "kernelspec": {
   "display_name": "Python 3",
   "language": "python",
   "name": "python3"
  },
  "language_info": {
   "codemirror_mode": {
    "name": "ipython",
    "version": 3
   },
   "file_extension": ".py",
   "mimetype": "text/x-python",
   "name": "python",
   "nbconvert_exporter": "python",
   "pygments_lexer": "ipython3",
   "version": "3.8.6"
  }
 },
 "nbformat": 4,
 "nbformat_minor": 4
}
