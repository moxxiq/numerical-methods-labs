{
 "cells": [
  {
   "cell_type": "markdown",
   "metadata": {},
   "source": [
    "## Варіант 5\n",
    "### Завдання  1. Обчислити заданий інтеграл Рімана із точністю 0,001:\n",
    "- методом трапецій із визначенням кількості інтервалів розбиття через оцінку похибки;\n",
    "- методом Сімпсона із використання принципу Рунге;\n",
    "- за допомогою формул Гауса.\n",
    "За отриманими результатами обчислень зробити висновки.\n",
    "| № варіанту |        $f (x)$        | a | b |\n",
    "|:----------:|:---------------------:|:---:|:---:|\n",
    "|      5     | $$\\frac{sin x}{x^2+1}$$ |  0  |  1  |"
   ]
  },
  {
   "cell_type": "code",
   "execution_count": null,
   "metadata": {},
   "outputs": [],
   "source": [
    "import numpy as np\n",
    "import pandas as pd\n",
    "import matplotlib.pyplot as plt\n",
    "import matplotlib.patches as mpatches\n",
    "from IPython.display import display, Markdown, Math\n",
    "from matplotlib.pyplot import figure\n",
    "from numpy.polynomial import polynomial\n",
    "\n",
    "def init_fig():\n",
    "    global figure\n",
    "    figure(num=None, figsize=(8, 6), dpi=100, facecolor='w', edgecolor='k')"
   ]
  }
 ],
 "metadata": {
  "kernelspec": {
   "display_name": "Python 3",
   "language": "python",
   "name": "python3"
  },
  "language_info": {
   "codemirror_mode": {
    "name": "ipython",
    "version": 3
   },
   "file_extension": ".py",
   "mimetype": "text/x-python",
   "name": "python",
   "nbconvert_exporter": "python",
   "pygments_lexer": "ipython3",
   "version": "3.8.6"
  }
 },
 "nbformat": 4,
 "nbformat_minor": 4
}
