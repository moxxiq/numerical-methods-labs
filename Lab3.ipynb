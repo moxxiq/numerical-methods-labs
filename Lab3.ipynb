{
 "cells": [
  {
   "cell_type": "markdown",
   "metadata": {},
   "source": [
    "## Варіант 5\n",
    "### Завдання  1. Обчислити заданий інтеграл Рімана із точністю 0,001:\n",
    "- методом трапецій із визначенням кількості інтервалів розбиття через оцінку похибки;\n",
    "- методом Сімпсона із використання принципу Рунге;\n",
    "- за допомогою формул Гауса.\n",
    "\n",
    "За отриманими результатами обчислень зробити висновки."
   ]
  },
  {
   "cell_type": "code",
   "execution_count": 92,
   "metadata": {},
   "outputs": [],
   "source": [
    "import numpy as np\n",
    "import pandas as pd\n",
    "import matplotlib.pyplot as plt\n",
    "import matplotlib.patches as mpatches\n",
    "from IPython.display import display, Markdown, Math\n",
    "from matplotlib.pyplot import figure\n",
    "from numpy.polynomial import polynomial\n",
    "from scipy.misc import derivative\n",
    "\n",
    "def init_fig():\n",
    "    global figure\n",
    "    figure(num=None, figsize=(8, 6), dpi=100, facecolor='w', edgecolor='k')"
   ]
  },
  {
   "cell_type": "code",
   "execution_count": 93,
   "metadata": {},
   "outputs": [],
   "source": [
    "f = lambda x: np.sin(x)/(x**2 + 1)\n",
    "a = 0\n",
    "b = 1\n",
    "error = 0.001"
   ]
  },
  {
   "cell_type": "code",
   "execution_count": 94,
   "metadata": {},
   "outputs": [],
   "source": [
    "class Integral():\n",
    "    \"\"\"Inegral to numericaly solve different methods\"\"\"\n",
    "    def __init__(self, func, a, b, error = 0.001):\n",
    "        \"\"\"\n",
    "        func : function to integrate\n",
    "        a : left bound\n",
    "        b : right bound\n",
    "        \"\"\"\n",
    "        self.func = func\n",
    "        self.a = a\n",
    "        self.b = b\n",
    "        self.error = error\n",
    "    \n",
    "    def max_der(self, order):\n",
    "        self.M = np.abs(\n",
    "            derivative(\n",
    "                self.func,\n",
    "                np.linspace(self.a, self.b, 100),\n",
    "                n=order,\n",
    "                dx=0.0005,\n",
    "                order=order+1+order%2\n",
    "            )\n",
    "        ).max()\n",
    "        return self.M\n",
    "    \n",
    "    def runge_error(self, step_integral, halfstep_integral, accuracy_order):\n",
    "        return np.abs(step_integral - halfstep_integral)/(2**accuracy_order-1)"
   ]
  },
  {
   "cell_type": "code",
   "execution_count": 95,
   "metadata": {},
   "outputs": [],
   "source": [
    "class TrapezoidalIntegral(Integral):\n",
    "    def distance_between_points(self):\n",
    "        h = np.sqrt(\n",
    "            12*self.error/(self.max_der(2)*np.abs(self.b-self.a))\n",
    "        )\n",
    "        return h\n",
    "    \n",
    "    def interval_number(self):\n",
    "        n = int(\n",
    "            np.ceil(\n",
    "                np.abs(self.b - self.a)/self.distance_between_points()\n",
    "            )\n",
    "        )\n",
    "        return n\n",
    "    \n",
    "    def exact_error(self, h):\n",
    "        \"\"\"Trapezoidal integral\"\"\"\n",
    "        return np.abs(self.max_der(2)*np.abs(self.b - self.a)*h**2/12)\n",
    "    \n",
    "    def solve(self):\n",
    "        self.n = self.interval_number()\n",
    "        h = (self.b - self.a)/self.n\n",
    "        f_x_i = self.func(np.linspace(self.a, self.b, self.n+1))\n",
    "        # for trapezional formula\n",
    "        f_x_i[0] /= 2\n",
    "        f_x_i[-1] /= 2\n",
    "        answer = h*np.sum(f_x_i)\n",
    "        return answer, self.exact_error(h)\n",
    "\n",
    "\n",
    "class SimpsonIntegral(Integral):\n",
    "    \n",
    "    def __init__(self, *args, **kwargs):\n",
    "        super().__init__(*args, **kwargs)\n",
    "        self.x_i = np.linspace(self.a, self.b, 3)\n",
    "        self.y_i = self.func(self.x_i)\n",
    "        self.subdivision_number = 0\n",
    "    \n",
    "    def simpson_runge_error(self, step_integral, halfstep_integral):\n",
    "        return self.runge_error(step_integral, halfstep_integral, 4)\n",
    "\n",
    "    def subdivide(self):\n",
    "        \"\"\"Subdivide self.x_i and self.y_i\"\"\"\n",
    "        # make one more x_i betwen every nearest x_i\n",
    "        self.x_i = np.linspace(self.a, self.b, (self.x_i.size-1)*2+1)\n",
    "        old_y_i = self.y_i\n",
    "        # concatenate i. e.\n",
    "        # from [f1, f2, f3, ..., f99, f100]\n",
    "        # to   [f1, f2, f2, ..., f97, f98, f98, f99, f99, f99, f100]\n",
    "        self.y_i = np.concatenate([\n",
    "            old_y_i[:1],\n",
    "            np.repeat(old_y_i[1:-1], 2),\n",
    "            old_y_i[-2:],\n",
    "        ])\n",
    "        self.y_i[1:-1:2] = self.func(self.x_i[1:-1:2])\n",
    "    \n",
    "    def simpsons_rule(self):\n",
    "        n = self.x_i.size - 1\n",
    "        h = (self.x_i[-1] - self.x_i[0])/n\n",
    "        # instead adding two sums from y_i we modify temp value according to the rule \n",
    "        intermediate_y_i = np.copy(self.y_i) \n",
    "        intermediate_y_i[1:-1:2] *= 4\n",
    "        intermediate_y_i[2:-1:2] *= 2\n",
    "        return h/3 * np.sum(intermediate_y_i)\n",
    "    \n",
    "    def iter_runge_solve(self):\n",
    "        \"\"\"\n",
    "        Subdivide to that point when Runge error will satisfy the condition error\n",
    "        \"\"\"\n",
    "        prev_answer = self.simpsons_rule()\n",
    "        self.subdivide()\n",
    "        self.subdivision_number += 1\n",
    "        curr_answer = self.simpsons_rule()\n",
    "        while self.simpson_runge_error(prev_answer, curr_answer) > self.error:\n",
    "            self.subdivide()\n",
    "            self.subdivision_number += 1\n",
    "            prev_answer, curr_answer = curr_answer, self.simpsons_rule()\n",
    "        return curr_answer, self.simpson_runge_error(prev_answer, curr_answer)"
   ]
  },
  {
   "cell_type": "markdown",
   "metadata": {},
   "source": [
    "\n",
    "\n",
    "\n",
    "| № варіанту |        $f (x)$        | a | b |\n",
    "|:----------:|:---------------------:|:---:|:---:|\n",
    "|      5     | $$\\frac{sin x}{x^2+1}$$ |  0  |  1  |\n",
    "$$\\varepsilon = 0.001$$\n",
    "\n",
    "### 1. Використовуємо метод трапецій\n",
    "$$\n",
    "\\int_{a}^{b} f(x) d x \\approx h\\left(\\frac{f\\left(x_{0}\\right)}{2}+f\\left(x_{1}\\right)+\\ldots+f\\left(x_{n-1}\\right)+\\frac{f\\left(x_{n}\\right)}{2}\\right)\n",
    "$$\n",
    "З оцінки похибки інтегрування $\\varepsilon = 0.001$\n",
    "$$\n",
    "\\frac{M_{2}(b-a) h^{2}}{12} \\leq \\varepsilon \\Rightarrow h \\leq \\sqrt{\\frac{12 \\cdot \\varepsilon}{M_{2}(b-a)}}, \\text { де } M_{2}=\\max _{x \\in[a, b]}\\left|f^{\\prime \\prime}(x)\\right|\n",
    "$$"
   ]
  },
  {
   "cell_type": "code",
   "execution_count": 96,
   "metadata": {},
   "outputs": [
    {
     "data": {
      "text/markdown": [
       "Кількість розбиттів для забезпечення необхідної точності $n=12$\n",
       "\n",
       "Максимальна похідна другого порядку $M_2=1.6914706102433286$\n",
       "\n",
       "**За формулою трапецій $I \\approx 0.3211271061613804$**\n",
       "\n",
       "Точне значення похибки відповідно до вибраної клькості розбиттів $=0.000978860306853778$"
      ],
      "text/plain": [
       "<IPython.core.display.Markdown object>"
      ]
     },
     "metadata": {},
     "output_type": "display_data"
    }
   ],
   "source": [
    "trap_int = TrapezoidalIntegral(f, a, b, error)\n",
    "trapezoidal_answer, trapezoidal_error = trap_int.solve()\n",
    "\n",
    "display(Markdown(\n",
    "    f\"Кількість розбиттів для забезпечення необхідної точності $n={trap_int.n}$\\n\\n\"\\\n",
    "    f\"Максимальна похідна другого порядку $M_2={trap_int.M}$\\n\\n\"\\\n",
    "    f\"**За формулою трапецій $I \\\\approx {trapezoidal_answer}$**\\n\\n\"\\\n",
    "    \"Точне значення похибки відповідно до \"\\\n",
    "    f\"вибраної клькості розбиттів $={trapezoidal_error}$\"\n",
    "))\n"
   ]
  },
  {
   "cell_type": "markdown",
   "metadata": {},
   "source": [
    "### 2. Використовуємо складену складену формулу Сімпсона для цілої нумерації вузлів\n",
    "$$\n",
    "\\int_{a}^{b} f(x) d x \\approx \\frac{h}{3}\\left(f\\left(x_{0}\\right)+4 \\sum_{i=1}^{n / 2} f\\left(x_{2 i-1}\\right)+2 \\sum_{i=1}^{n / 2-1} f\\left(x_{2 i}\\right)+f\\left(x_{n}\\right)\\right)\n",
    "$$\n",
    "Для визначення кількості розбиттів скористаємось апостеріорною оцінкою похибки. Використаємо **правило Рунге**, за початкову кількість розбиттів візьмемо 2 та з кожним кроком будемо подвоювати їх кількість. На першому кроці буде 3 точки розбиття. Розбиття продовжується допоки похибка не буде $\\le\\varepsilon$\n",
    "$$\\frac{\\left|I_{\\frac{h}{2}}-I_h\\right|}{2^q-1}$$\n",
    "$q=4$ для формули Сімпсона"
   ]
  },
  {
   "cell_type": "code",
   "execution_count": 98,
   "metadata": {},
   "outputs": [
    {
     "data": {
      "text/markdown": [
       "Кількість розбиттів для забезпечення необхідної точності\n",
       "\\$n=2\\$\n",
       "\n",
       "Точне значення похибки за правилом Рунге $=0.0002532206184526542$\n",
       "\n",
       "**За формулою Сімпсона \\$I \\approx 0.3220178933794432$**\n",
       "\n",
       "\n"
      ],
      "text/plain": [
       "<IPython.core.display.Markdown object>"
      ]
     },
     "metadata": {},
     "output_type": "display_data"
    }
   ],
   "source": [
    "simp_int = SimpsonIntegral(f, a, b, error)\n",
    "simpsons_answer, simpsons_error = simp_int.iter_runge_solve()\n",
    "display(Markdown(\n",
    "f\"\"\"Кількість розбиттів для забезпечення необхідної точності\n",
    "\\$n={2**simp_int.subdivision_number}\\$\n",
    "\n",
    "Точне значення похибки за правилом Рунге $={simpsons_error}$\n",
    "\n",
    "**За формулою Сімпсона \\$I \\\\approx {simpsons_answer}$**\\n\\n\n",
    "\"\"\"\n",
    "))"
   ]
  },
  {
   "cell_type": "markdown",
   "metadata": {},
   "source": [
    "### 3. Використовуємо формули Гауса"
   ]
  }
 ],
 "metadata": {
  "kernelspec": {
   "display_name": "Python 3",
   "language": "python",
   "name": "python3"
  },
  "language_info": {
   "codemirror_mode": {
    "name": "ipython",
    "version": 3
   },
   "file_extension": ".py",
   "mimetype": "text/x-python",
   "name": "python",
   "nbconvert_exporter": "python",
   "pygments_lexer": "ipython3",
   "version": "3.9.0"
  }
 },
 "nbformat": 4,
 "nbformat_minor": 4
}
