{
 "cells": [
  {
   "cell_type": "markdown",
   "metadata": {},
   "source": [
    " ## Варіант 5\n",
    " ### Завдання  1\n",
    "Користуючись інтерполяційною схемою Ейткена, обчислити з заданою точністю\n",
    "значення даної функції в заданій точці $x_0$\n",
    " $$\\sqrt{5x^3-4x+2}; \\epsilon=0.002$$\n",
    " \n",
    " Нехай ми будемо шукати значення функції в точці $x=-0.5$"
   ]
  },
  {
   "cell_type": "code",
   "execution_count": 234,
   "metadata": {},
   "outputs": [],
   "source": [
    "import numpy as np\n",
    "import pandas as pd\n",
    "import matplotlib.pyplot as plt\n",
    "import matplotlib.patches as mpatches\n",
    "from IPython.display import display, Markdown, Math\n",
    "from matplotlib.pyplot import figure"
   ]
  },
  {
   "cell_type": "code",
   "execution_count": 235,
   "metadata": {
    "scrolled": false
   },
   "outputs": [
    {
     "data": {
      "text/html": [
       "<div>\n",
       "<style scoped>\n",
       "    .dataframe tbody tr th:only-of-type {\n",
       "        vertical-align: middle;\n",
       "    }\n",
       "\n",
       "    .dataframe tbody tr th {\n",
       "        vertical-align: top;\n",
       "    }\n",
       "\n",
       "    .dataframe thead th {\n",
       "        text-align: right;\n",
       "    }\n",
       "</style>\n",
       "<table border=\"1\" class=\"dataframe\">\n",
       "  <thead>\n",
       "    <tr style=\"text-align: right;\">\n",
       "      <th></th>\n",
       "      <th>$x_i$</th>\n",
       "      <th>$y_i$</th>\n",
       "      <th>$P_{i+1}(x)$</th>\n",
       "      <th>$P_{i+2}(x)$</th>\n",
       "      <th>$P_{i+3}(x)$</th>\n",
       "      <th>$P_{i+4}(x)$</th>\n",
       "      <th>$P_{i+5}(x)$</th>\n",
       "      <th>$P_{i+6}(x)$</th>\n",
       "    </tr>\n",
       "  </thead>\n",
       "  <tbody>\n",
       "    <tr>\n",
       "      <th>0</th>\n",
       "      <td>-1.0</td>\n",
       "      <td>1.000000</td>\n",
       "      <td>2.260695</td>\n",
       "      <td>1.870830</td>\n",
       "      <td>1.847151</td>\n",
       "      <td>1.842296</td>\n",
       "      <td>1.838744</td>\n",
       "      <td>1.837688</td>\n",
       "    </tr>\n",
       "    <tr>\n",
       "      <th>1</th>\n",
       "      <td>-0.7</td>\n",
       "      <td>1.756417</td>\n",
       "      <td>1.792857</td>\n",
       "      <td>1.828208</td>\n",
       "      <td>1.835498</td>\n",
       "      <td>1.831640</td>\n",
       "      <td>1.834944</td>\n",
       "      <td>NaN</td>\n",
       "    </tr>\n",
       "    <tr>\n",
       "      <th>2</th>\n",
       "      <td>-0.4</td>\n",
       "      <td>1.811077</td>\n",
       "      <td>1.898910</td>\n",
       "      <td>1.861015</td>\n",
       "      <td>1.812348</td>\n",
       "      <td>1.856421</td>\n",
       "      <td>NaN</td>\n",
       "      <td>NaN</td>\n",
       "    </tr>\n",
       "    <tr>\n",
       "      <th>3</th>\n",
       "      <td>-0.1</td>\n",
       "      <td>1.547579</td>\n",
       "      <td>2.126280</td>\n",
       "      <td>2.299013</td>\n",
       "      <td>1.283473</td>\n",
       "      <td>NaN</td>\n",
       "      <td>NaN</td>\n",
       "      <td>NaN</td>\n",
       "    </tr>\n",
       "    <tr>\n",
       "      <th>4</th>\n",
       "      <td>0.2</td>\n",
       "      <td>1.113553</td>\n",
       "      <td>1.867181</td>\n",
       "      <td>4.583976</td>\n",
       "      <td>NaN</td>\n",
       "      <td>NaN</td>\n",
       "      <td>NaN</td>\n",
       "      <td>NaN</td>\n",
       "    </tr>\n",
       "    <tr>\n",
       "      <th>5</th>\n",
       "      <td>0.5</td>\n",
       "      <td>0.790569</td>\n",
       "      <td>-0.461500</td>\n",
       "      <td>NaN</td>\n",
       "      <td>NaN</td>\n",
       "      <td>NaN</td>\n",
       "      <td>NaN</td>\n",
       "      <td>NaN</td>\n",
       "    </tr>\n",
       "    <tr>\n",
       "      <th>6</th>\n",
       "      <td>0.8</td>\n",
       "      <td>1.166190</td>\n",
       "      <td>NaN</td>\n",
       "      <td>NaN</td>\n",
       "      <td>NaN</td>\n",
       "      <td>NaN</td>\n",
       "      <td>NaN</td>\n",
       "      <td>NaN</td>\n",
       "    </tr>\n",
       "  </tbody>\n",
       "</table>\n",
       "</div>"
      ],
      "text/plain": [
       "   $x_i$     $y_i$  $P_{i+1}(x)$  $P_{i+2}(x)$  $P_{i+3}(x)$  $P_{i+4}(x)$  \\\n",
       "0   -1.0  1.000000      2.260695      1.870830      1.847151      1.842296   \n",
       "1   -0.7  1.756417      1.792857      1.828208      1.835498      1.831640   \n",
       "2   -0.4  1.811077      1.898910      1.861015      1.812348      1.856421   \n",
       "3   -0.1  1.547579      2.126280      2.299013      1.283473           NaN   \n",
       "4    0.2  1.113553      1.867181      4.583976           NaN           NaN   \n",
       "5    0.5  0.790569     -0.461500           NaN           NaN           NaN   \n",
       "6    0.8  1.166190           NaN           NaN           NaN           NaN   \n",
       "\n",
       "   $P_{i+5}(x)$  $P_{i+6}(x)$  \n",
       "0      1.838744      1.837688  \n",
       "1      1.834944           NaN  \n",
       "2           NaN           NaN  \n",
       "3           NaN           NaN  \n",
       "4           NaN           NaN  \n",
       "5           NaN           NaN  \n",
       "6           NaN           NaN  "
      ]
     },
     "metadata": {},
     "output_type": "display_data"
    },
    {
     "data": {
      "text/markdown": [
       "$|P_{0, 1}(x) - P_{0, 1, 2}(x)| = 0.38986477023476485$"
      ],
      "text/plain": [
       "<IPython.core.display.Markdown object>"
      ]
     },
     "metadata": {},
     "output_type": "display_data"
    },
    {
     "data": {
      "text/markdown": [
       "$|P_{0, 1, 2}(x) - P_{0, 1, 2, 3}(x)| = 0.02367889458313921$"
      ],
      "text/plain": [
       "<IPython.core.display.Markdown object>"
      ]
     },
     "metadata": {},
     "output_type": "display_data"
    },
    {
     "data": {
      "text/markdown": [
       "$|P_{0, 1, 2, 3}(x) - P_{0, 1, 2, 3, 4}(x)| = 0.004855292304240422$"
      ],
      "text/plain": [
       "<IPython.core.display.Markdown object>"
      ]
     },
     "metadata": {},
     "output_type": "display_data"
    },
    {
     "data": {
      "text/markdown": [
       "$|P_{0, 1, 2, 3, 4}(x) - P_{0, 1, 2, 3, 4, 5}(x)| = 0.0035519128411958256$"
      ],
      "text/plain": [
       "<IPython.core.display.Markdown object>"
      ]
     },
     "metadata": {},
     "output_type": "display_data"
    },
    {
     "data": {
      "text/markdown": [
       "$|P_{0, 1, 2, 3, 4, 5}(x) - P_{0, 1, 2, 3, 4, 5, 6}(x)| = 0.0010554600833028172$"
      ],
      "text/plain": [
       "<IPython.core.display.Markdown object>"
      ]
     },
     "metadata": {},
     "output_type": "display_data"
    },
    {
     "data": {
      "text/markdown": [
       "$0.0010554600833028172 < 0.002\\ \\ f(-0.5) =  1.8377$"
      ],
      "text/plain": [
       "<IPython.core.display.Markdown object>"
      ]
     },
     "metadata": {},
     "output_type": "display_data"
    },
    {
     "data": {
      "image/png": "[encoded data removed]",
      "text/plain": [
       "<Figure size 800x600 with 1 Axes>"
      ]
     },
     "metadata": {},
     "output_type": "display_data"
    }
   ],
   "source": [
    "figure(num=None, figsize=(8, 6), dpi=100, facecolor='w', edgecolor='k')\n",
    "\n",
    "f = lambda x: np.sqrt(5*x**3-4*x+2)\n",
    "# шукане значення\n",
    "x = -0.5\n",
    "# починаючи з точки -1 з кроком 0.3 йдем до 1\n",
    "x_i = np.arange(-1, 1, 0.3)\n",
    "# рахуємо значення в точках x_i\n",
    "y_i = f(x_i)\n",
    "# точність\n",
    "epsilon = 0.002\n",
    "\n",
    "def aitken_table(x, x_i, y_i):\n",
    "    P = [np.copy(y_i)]\n",
    "    for i in range(1, len(x_i)):\n",
    "        # vector operations, Det unwrapped\n",
    "        P.append(\n",
    "            ((-x_i[:-i]+x)*(P[i-1][1:])-(-x_i[i:]+x)*(P[i-1][:-1]))/(x_i[i:]-x_i[:-i])\n",
    "        )\n",
    "    return P\n",
    "\n",
    "# створюємо нову таблицю\n",
    "table = aitken_table(x, x_i, y_i)\n",
    "# перетворюємо її в pandas з приєднанням іксів\n",
    "df_table = pd.concat([\n",
    "    pd.DataFrame(x_i),\n",
    "    pd.DataFrame(table).transpose(),\n",
    "], axis=1)\n",
    "df_table.columns = [\n",
    "    '$x_i$',\n",
    "    '$y_i$', \n",
    "    *('$P_{i+'+str(i)+'}(x)$' for i in range(1, len(table)))\n",
    "]\n",
    "display(df_table)\n",
    "\n",
    "# Рахуємо різниці\n",
    "deltas = []\n",
    "for i in range(1, len(table)-1):\n",
    "    deltas.append(np.abs(table[i+1][0]-table[i][0]))\n",
    "    display(Markdown(\n",
    "        '$|P_{'+str(tuple(range(i+1)))[1:-1]+\\\n",
    "        '}(x) - P_{'+\\\n",
    "        str(tuple(range(i+2)))[1:-1]+\\\n",
    "        '}(x)| = '+\\\n",
    "        str(deltas[-1])+'$'\n",
    "    ))\n",
    "    if deltas[-1] < epsilon:\n",
    "        display(Markdown(\n",
    "            f\"${deltas[-1]} < {epsilon}\"\n",
    "            r\"\\ \\ f(\"\n",
    "            f\"{x}) = \"\n",
    "            f\" {round(table[i+1][0], 4)}$\"\n",
    "        ))\n",
    "        break\n",
    "\n",
    "points = plt.plot(x_i, y_i, 'bo')\n",
    "aitken_point = plt.plot(x, table[-1][-1], 'ro')\n",
    "blue_patch = mpatches.Patch(color='blue', label='Відомі точки')\n",
    "red_patch = mpatches.Patch(color='red', label='Знайдена точка')\n",
    "plt.legend(handles=[red_patch, blue_patch])\n",
    "plt.show()"
   ]
  },
  {
   "cell_type": "markdown",
   "metadata": {},
   "source": [
    "### Завдання  2\n",
    "Користуючись інтерполяційною формулою Лагранжа або Ньютона, знайти\n",
    "значення функції для заданого аргумента. Оцінити похибку отриманого результату. Зобразити\n",
    "графіки Заданої функції та інтерполянти."
   ]
  },
  {
   "cell_type": "code",
   "execution_count": 243,
   "metadata": {},
   "outputs": [],
   "source": [
    "from scipy.interpolate import lagrange\n",
    "from scipy.special import factorial\n",
    "from scipy.misc import derivative\n",
    "from functools import reduce"
   ]
  },
  {
   "cell_type": "code",
   "execution_count": 244,
   "metadata": {},
   "outputs": [],
   "source": [
    "f = lambda x: np.sqrt(5*x**3-4*x+2)\n",
    "start = -1\n",
    "stop = 2\n",
    "step = 0.6\n",
    "x_i = np.arange(start, stop, step)\n",
    "# рахуємо значення в точках x_i\n",
    "y_i = f(x_i)"
   ]
  },
  {
   "cell_type": "code",
   "execution_count": 245,
   "metadata": {},
   "outputs": [
    {
     "data": {
      "text/html": [
       "<div>\n",
       "<style scoped>\n",
       "    .dataframe tbody tr th:only-of-type {\n",
       "        vertical-align: middle;\n",
       "    }\n",
       "\n",
       "    .dataframe tbody tr th {\n",
       "        vertical-align: top;\n",
       "    }\n",
       "\n",
       "    .dataframe thead th {\n",
       "        text-align: right;\n",
       "    }\n",
       "</style>\n",
       "<table border=\"1\" class=\"dataframe\">\n",
       "  <thead>\n",
       "    <tr style=\"text-align: right;\">\n",
       "      <th></th>\n",
       "      <th>0</th>\n",
       "      <th>1</th>\n",
       "      <th>2</th>\n",
       "      <th>3</th>\n",
       "      <th>4</th>\n",
       "    </tr>\n",
       "  </thead>\n",
       "  <tbody>\n",
       "    <tr>\n",
       "      <th>$x_i$</th>\n",
       "      <td>-1.0</td>\n",
       "      <td>-0.400000</td>\n",
       "      <td>0.200000</td>\n",
       "      <td>0.80000</td>\n",
       "      <td>1.400000</td>\n",
       "    </tr>\n",
       "    <tr>\n",
       "      <th>$y_i$</th>\n",
       "      <td>1.0</td>\n",
       "      <td>1.811077</td>\n",
       "      <td>1.113553</td>\n",
       "      <td>1.16619</td>\n",
       "      <td>3.181195</td>\n",
       "    </tr>\n",
       "  </tbody>\n",
       "</table>\n",
       "</div>"
      ],
      "text/plain": [
       "         0         1         2        3         4\n",
       "$x_i$ -1.0 -0.400000  0.200000  0.80000  1.400000\n",
       "$y_i$  1.0  1.811077  1.113553  1.16619  3.181195"
      ]
     },
     "metadata": {},
     "output_type": "display_data"
    }
   ],
   "source": [
    "xy_table = pd.concat([\n",
    "    pd.DataFrame(x_i),\n",
    "    pd.DataFrame(y_i),\n",
    "], axis=1)\n",
    "xy_table.columns = ['$x_i$', '$y_i$',]\n",
    "xy_table = xy_table.transpose()\n",
    "display(xy_table)"
   ]
  },
  {
   "cell_type": "code",
   "execution_count": 280,
   "metadata": {},
   "outputs": [],
   "source": [
    "def show_plot(x_i, y_i, f, polynom, title):\n",
    "    figure(num=None, figsize=(8, 6), dpi=100, facecolor='w', edgecolor='k')\n",
    "    xmin, xmax = x_i.min(), x_i.max()\n",
    "    x_linspace = np.linspace(xmin, xmax, 100)\n",
    "    points = plt.plot(x_i, y_i, 'go')\n",
    "    f_plt = plt.plot(x_linspace, f(x_linspace), 'r-')\n",
    "    L_plt = plt.plot(x_linspace, polynom(x_linspace), 'b')\n",
    "    blue_patch = mpatches.Patch(color='blue', label='Графік інтерполянта')\n",
    "    red_patch = mpatches.Patch(color='red', label='Графік функції')\n",
    "    green_patch = mpatches.Patch(color='green', label='Значення в вузлах інтерполяції')\n",
    "    plt.legend(handles=[red_patch, blue_patch, green_patch])\n",
    "    plt.title(title)\n",
    "    plt.show()"
   ]
  },
  {
   "cell_type": "code",
   "execution_count": 240,
   "metadata": {},
   "outputs": [
    {
     "data": {
      "text/markdown": [
       "Інтерполяційний многочлен Лагранжа має вигляд $-0.3364704368803928x^4+1.6082843901810964x^3+0.27880282449809957x^2-1.3132326378331263x^1+1.3527193647302655$"
      ],
      "text/plain": [
       "<IPython.core.display.Markdown object>"
      ]
     },
     "metadata": {},
     "output_type": "display_data"
    },
    {
     "data": {
      "text/markdown": [
       "$$|R_5x| \\le \\frac{M_5}{5!}|\\omega(x)| =\\frac{974630.1543600564}{120.0}0.08644999999999996 = 702.1398070368903$$"
      ],
      "text/plain": [
       "<IPython.core.display.Markdown object>"
      ]
     },
     "metadata": {},
     "output_type": "display_data"
    },
    {
     "data": {
      "text/markdown": [
       "Точність інтерполювання в точці $x=-0.5$ складає $\\pm702.1398070368903$"
      ],
      "text/plain": [
       "<IPython.core.display.Markdown object>"
      ]
     },
     "metadata": {},
     "output_type": "display_data"
    },
    {
     "data": {
      "text/markdown": [
       "_(нотатка: всю оцінку точності \"псує\" модуль занчення п'ятої похідної в точці $-1$ )_"
      ],
      "text/plain": [
       "<IPython.core.display.Markdown object>"
      ]
     },
     "metadata": {},
     "output_type": "display_data"
    },
    {
     "data": {
      "image/png": "[encoded data removed]",
      "text/plain": [
       "<Figure size 800x600 with 1 Axes>"
      ]
     },
     "metadata": {},
     "output_type": "display_data"
    }
   ],
   "source": [
    "x = -0.5\n",
    "L_n = lagrange(x_i, y_i)\n",
    "# для відображення поліному Лагранжа\n",
    "polynom_coef = list(zip(list(range(len(L_n.coefficients)-1,-1,-1)), L_n.coefficients))\n",
    "latex_polynom = reduce(\n",
    "    lambda prev, p_c: prev+str(p_c[1])+'x^'+str(p_c[0]) if p_c[1] < 0 else prev+'+'+str(p_c[1])+'x^'+str(p_c[0]), ['']+polynom_coef\n",
    ")\n",
    "latex_polynom = \"$\" + latex_polynom[:-3] + \"$\"\n",
    "display(Markdown(\"Інтерполяційний многочлен Лагранжа має вигляд \"+latex_polynom))\n",
    "# точність\n",
    "M_max  = np.abs(derivative(f, np.linspace(x_i.min(), x_i.max(), 100), n=len(x_i), dx=0.0005, order=len(x_i)+1+(len(x_i))%2)).max()\n",
    "L_err = (M_max*np.abs(np.prod(-x_i+x)))/factorial(len(x_i))\n",
    "display(Markdown(r\"$$|R_\"+str(len(x_i))+r\"x| \\le \\frac{M_\"+str(len(x_i))+\"}{\"+str(len(x_i))+r\"!}|\\omega(x)| =\"\n",
    "                 r\"\\frac{\"+str(M_max)+\"}{\"+str(factorial(len(x_i)))+r\"}\"+str(np.prod(-x_i+x))+f\" = {L_err}$$\"))\n",
    "display(Markdown(f\"Точність інтерполювання в точці $x={x}$ складає $\\\\pm{L_err}$\"))\n",
    "display(Markdown(\"_(нотатка: всю оцінку точності \\\"псує\\\" модуль занчення п'ятої похідної в точці $-1$ )_\"))\n",
    "show_plot(x_i, y_i, f, L_n, 'Інтерполяційна формула Лагранжа')"
   ]
  },
  {
   "cell_type": "markdown",
   "metadata": {},
   "source": [
    "### Завдання 3\n",
    "Розробити програмне забезпечення задачі інтерполяції функції за Лагранжем та Ньютоном. Реалізувати можливість вибору методу розв’язання, виведення результатів у вигляді графіків (графік інтерполянти та заданої функції), обчислення оцінки похибки.\n"
   ]
  },
  {
   "cell_type": "code",
   "execution_count": 273,
   "metadata": {},
   "outputs": [],
   "source": [
    "from numpy.polynomial import polynomial"
   ]
  },
  {
   "cell_type": "code",
   "execution_count": 295,
   "metadata": {},
   "outputs": [
    {
     "data": {
      "text/markdown": [
       "#### Таблиця різниць"
      ],
      "text/plain": [
       "<IPython.core.display.Markdown object>"
      ]
     },
     "metadata": {},
     "output_type": "display_data"
    },
    {
     "data": {
      "text/html": [
       "<div>\n",
       "<style scoped>\n",
       "    .dataframe tbody tr th:only-of-type {\n",
       "        vertical-align: middle;\n",
       "    }\n",
       "\n",
       "    .dataframe tbody tr th {\n",
       "        vertical-align: top;\n",
       "    }\n",
       "\n",
       "    .dataframe thead th {\n",
       "        text-align: right;\n",
       "    }\n",
       "</style>\n",
       "<table border=\"1\" class=\"dataframe\">\n",
       "  <thead>\n",
       "    <tr style=\"text-align: right;\">\n",
       "      <th></th>\n",
       "      <th>$x_i$</th>\n",
       "      <th>$y_i$</th>\n",
       "      <th>$\\Delta^1y$</th>\n",
       "      <th>$\\Delta^2y$</th>\n",
       "      <th>$\\Delta^3y$</th>\n",
       "      <th>$\\Delta^4y$</th>\n",
       "    </tr>\n",
       "  </thead>\n",
       "  <tbody>\n",
       "    <tr>\n",
       "      <th>0</th>\n",
       "      <td>-1.0</td>\n",
       "      <td>1.000000</td>\n",
       "      <td>1.351795</td>\n",
       "      <td>-2.095279</td>\n",
       "      <td>1.742873</td>\n",
       "      <td>-0.33647</td>\n",
       "    </tr>\n",
       "    <tr>\n",
       "      <th>1</th>\n",
       "      <td>-0.4</td>\n",
       "      <td>1.811077</td>\n",
       "      <td>-1.162540</td>\n",
       "      <td>1.041891</td>\n",
       "      <td>0.935344</td>\n",
       "      <td>NaN</td>\n",
       "    </tr>\n",
       "    <tr>\n",
       "      <th>2</th>\n",
       "      <td>0.2</td>\n",
       "      <td>1.113553</td>\n",
       "      <td>0.087729</td>\n",
       "      <td>2.725510</td>\n",
       "      <td>NaN</td>\n",
       "      <td>NaN</td>\n",
       "    </tr>\n",
       "    <tr>\n",
       "      <th>3</th>\n",
       "      <td>0.8</td>\n",
       "      <td>1.166190</td>\n",
       "      <td>3.358341</td>\n",
       "      <td>NaN</td>\n",
       "      <td>NaN</td>\n",
       "      <td>NaN</td>\n",
       "    </tr>\n",
       "    <tr>\n",
       "      <th>4</th>\n",
       "      <td>1.4</td>\n",
       "      <td>3.181195</td>\n",
       "      <td>NaN</td>\n",
       "      <td>NaN</td>\n",
       "      <td>NaN</td>\n",
       "      <td>NaN</td>\n",
       "    </tr>\n",
       "  </tbody>\n",
       "</table>\n",
       "</div>"
      ],
      "text/plain": [
       "   $x_i$     $y_i$  $\\Delta^1y$  $\\Delta^2y$  $\\Delta^3y$  $\\Delta^4y$\n",
       "0   -1.0  1.000000     1.351795    -2.095279     1.742873     -0.33647\n",
       "1   -0.4  1.811077    -1.162540     1.041891     0.935344          NaN\n",
       "2    0.2  1.113553     0.087729     2.725510          NaN          NaN\n",
       "3    0.8  1.166190     3.358341          NaN          NaN          NaN\n",
       "4    1.4  3.181195          NaN          NaN          NaN          NaN"
      ]
     },
     "metadata": {},
     "output_type": "display_data"
    },
    {
     "data": {
      "text/markdown": [
       "Інтерполяційний многочлен Ньютона має вигляд $-0.33647043688039313x^4+1.6082843901810968x^3+0.27880282449809796x^2-1.313232637833126x^1+1.3527193647302658$"
      ],
      "text/plain": [
       "<IPython.core.display.Markdown object>"
      ]
     },
     "metadata": {},
     "output_type": "display_data"
    },
    {
     "data": {
      "image/png": "[encoded data removed]",
      "text/plain": [
       "<Figure size 800x600 with 1 Axes>"
      ]
     },
     "metadata": {},
     "output_type": "display_data"
    }
   ],
   "source": [
    "def lg_func(x_i, y_i, f):\n",
    "    xy_table = pd.concat([\n",
    "        pd.DataFrame(x_i),\n",
    "        pd.DataFrame(y_i),\n",
    "    ], axis=1)\n",
    "    xy_table.columns = ['$x_i$', '$y_i$',]\n",
    "    xy_table = xy_table.transpose()\n",
    "    display(xy_table)\n",
    "    L_n = lagrange(x_i, y_i)\n",
    "    show_plot(x_i, y_i, f, L_n, 'Інтерполяційна формула Лагранжа')\n",
    "\n",
    "def newton_table(x_i, y_i):\n",
    "    P = [np.copy(y_i)]\n",
    "    for i in range(1, len(x_i)):\n",
    "        # vector operations, Det unwrapped\n",
    "        P.append(\n",
    "            (P[i-1][1:]-P[i-1][:-1])/(x_i[i:]-x_i[:-i])\n",
    "        )\n",
    "    return P\n",
    "    \n",
    "def newton_func(x_i, y_i, f):\n",
    "    table_data = newton_table(x_i, y_i)\n",
    "    table = pd.concat([\n",
    "        pd.DataFrame(x_i),\n",
    "        pd.DataFrame(table_data).transpose(),\n",
    "    ], axis=1)\n",
    "    table.columns = [\n",
    "        '$x_i$',\n",
    "        '$y_i$',\n",
    "        *('$\\\\Delta^'+str(i)+'y$' for i in range(1, len(table)))]\n",
    "    display(Markdown(\"#### Таблиця різниць\"))\n",
    "    display(table)\n",
    "    H = polynomial.Polynomial(table_data[0][0])\n",
    "    for i in range(1,len(table_data)):\n",
    "        x_pol = polynomial.Polynomial(1)\n",
    "        for j in range(i):\n",
    "            x_pol *= polynomial.Polynomial([-x_i[j], 1])\n",
    "        H+=table_data[i][0]*x_pol\n",
    "    \n",
    "#     H_poly1d = np.poly1d(list(H)[::-1])\n",
    "    polynom_coef = list(zip(list(range(len(list(H)[::-1])-1,-1,-1)), list(H)[::-1]))\n",
    "    latex_polynom = reduce(\n",
    "        lambda prev, p_c: prev+str(p_c[1])+'x^'+str(p_c[0]) if p_c[1] < 0 else prev+'+'+str(p_c[1])+'x^'+str(p_c[0]), ['']+polynom_coef\n",
    "    )\n",
    "    latex_polynom = \"$\" + latex_polynom[:-3] + \"$\"\n",
    "    display(Markdown(\"Інтерполяційний многочлен Ньютона має вигляд \"+latex_polynom))\n",
    "    show_plot(x_i, y_i, f, H, 'Інтерполяційна формула Ньютона')\n",
    "    \n",
    "# задання початкових даних\n",
    "f = lambda x: np.sqrt(5*x**3-4*x+2)\n",
    "start = -1\n",
    "stop = 2\n",
    "step = 0.6\n",
    "x_i = np.arange(start, stop, step)\n",
    "# рахуємо значення в точках x_i\n",
    "y_i = f(x_i)\n",
    "\n",
    "# Запуск за Лагранжем\n",
    "lg_func(x_i, y_i, f)\n",
    "# Запуск за Ньютоном\n",
    "newton_func(x_i, y_i, f)"
   ]
  },
  {
   "cell_type": "code",
   "execution_count": null,
   "metadata": {},
   "outputs": [],
   "source": []
  }
 ],
 "metadata": {
  "kernelspec": {
   "display_name": "Python 3",
   "language": "python",
   "name": "python3"
  },
  "language_info": {
   "codemirror_mode": {
    "name": "ipython",
    "version": 3
   },
   "file_extension": ".py",
   "mimetype": "text/x-python",
   "name": "python",
   "nbconvert_exporter": "python",
   "pygments_lexer": "ipython3",
   "version": "3.8.6"
  }
 },
 "nbformat": 4,
 "nbformat_minor": 4
}
